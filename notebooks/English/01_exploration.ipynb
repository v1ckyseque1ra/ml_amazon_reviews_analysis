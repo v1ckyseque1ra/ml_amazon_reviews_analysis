{
 "cells": [
  {
   "cell_type": "code",
   "execution_count": 8,
   "id": "92cf7b2d-bd2d-4f1d-8f8d-791f4c691430",
   "metadata": {},
   "outputs": [],
   "source": [
    "# Standard Library\n",
    "import os\n",
    "import re\n",
    "import warnings\n",
    "import zipfile\n",
    "\n",
    "# Third-Party Libraries\n",
    "import matplotlib.pyplot as plt\n",
    "import numpy as np\n",
    "import pandas as pd\n",
    "import seaborn as sns\n",
    "from bootcampviztools import pinta_distribucion_categoricas\n",
    "from nltk.corpus import stopwords\n",
    "import nltk\n",
    "\n",
    "# Configuration\n",
    "warnings.filterwarnings('ignore')\n",
    "\n",
    "plt.rc('font', size=14)\n",
    "plt.rc('axes', labelsize=14, titlesize=14)\n",
    "plt.rc('legend', fontsize=14)\n",
    "plt.rc('xtick', labelsize=10)\n",
    "plt.rc('ytick', labelsize=10)"
   ]
  },
  {
   "cell_type": "code",
   "execution_count": 9,
   "id": "09995c24-d8e8-432a-8936-61340f6a1686",
   "metadata": {},
   "outputs": [],
   "source": [
    "from datasets import load_dataset\n",
    "\n",
    "dataset = load_dataset(\"McAuley-Lab/Amazon-Reviews-2023\", \"raw_review_All_Beauty\", trust_remote_code=True)"
   ]
  },
  {
   "cell_type": "code",
   "execution_count": 10,
   "id": "0d239e0a-e87e-4028-955c-b6e556d8edca",
   "metadata": {},
   "outputs": [],
   "source": [
    "# Convert the entire dataset to a Pandas DataFrame\n",
    "df_reviews = pd.DataFrame(dataset[\"full\"])"
   ]
  },
  {
   "cell_type": "code",
   "execution_count": 11,
   "id": "b851d6ad-5c0d-4021-afad-9b8a4247bea1",
   "metadata": {},
   "outputs": [
    {
     "name": "stdout",
     "output_type": "stream",
     "text": [
      "Tamaño de la muestra: 21.14 MB\n",
      "Sample saved in'C:\\Users\\Vicky\\Documents\\ML_Amazon_Reviews_Sentiment_Analysis\\data_sample/raw/amazon_reviews_sample.csv.gz' (memory size: ~25 MB)\n"
     ]
    }
   ],
   "source": [
    "# Reduce the dataset size to 5%\n",
    "porcentaje_muestra = 5\n",
    "df_sample = df_reviews.sample(frac=porcentaje_muestra / 100, random_state=42)\n",
    "\n",
    "# Verify sample size (max. 25 MB) \n",
    "sample_size_mb = df_sample.memory_usage(deep=True).sum() / (1024 ** 2)  # MB\n",
    "print(f\"Tamaño de la muestra: {sample_size_mb:.2f} MB\")\n",
    "\n",
    "# Save sample in zipped csv for GitHubuestra en un CSV comprimido (para GitHub)\n",
    "output_path = r\"C:\\Users\\Vicky\\Documents\\ML_Amazon_Reviews_Sentiment_Analysis\\data_sample/raw/amazon_reviews_sample.csv.gz\"\n",
    "df_sample.to_csv(output_path, index=False, compression=\"gzip\")\n",
    "\n",
    "print(f\"Sample saved in'{output_path}' (memory size: ~25 MB)\")"
   ]
  },
  {
   "cell_type": "markdown",
   "id": "2f75a90d-bcf8-454d-91bb-da026094f36d",
   "metadata": {},
   "source": [
    "### Dataset initial exploration \n",
    "Let's have a look"
   ]
  },
  {
   "cell_type": "code",
   "execution_count": 16,
   "id": "59acb794-e6d5-4be0-ab01-7d125da6eaab",
   "metadata": {},
   "outputs": [
    {
     "data": {
      "text/html": [
       "<div>\n",
       "<style scoped>\n",
       "    .dataframe tbody tr th:only-of-type {\n",
       "        vertical-align: middle;\n",
       "    }\n",
       "\n",
       "    .dataframe tbody tr th {\n",
       "        vertical-align: top;\n",
       "    }\n",
       "\n",
       "    .dataframe thead th {\n",
       "        text-align: right;\n",
       "    }\n",
       "</style>\n",
       "<table border=\"1\" class=\"dataframe\">\n",
       "  <thead>\n",
       "    <tr style=\"text-align: right;\">\n",
       "      <th></th>\n",
       "      <th>rating</th>\n",
       "      <th>title</th>\n",
       "      <th>text</th>\n",
       "      <th>images</th>\n",
       "      <th>asin</th>\n",
       "      <th>parent_asin</th>\n",
       "      <th>user_id</th>\n",
       "      <th>timestamp</th>\n",
       "      <th>helpful_vote</th>\n",
       "      <th>verified_purchase</th>\n",
       "    </tr>\n",
       "  </thead>\n",
       "  <tbody>\n",
       "    <tr>\n",
       "      <th>0</th>\n",
       "      <td>5.0</td>\n",
       "      <td>Such a lovely scent but not overpowering.</td>\n",
       "      <td>This spray is really nice. It smells really go...</td>\n",
       "      <td>[]</td>\n",
       "      <td>B00YQ6X8EO</td>\n",
       "      <td>B00YQ6X8EO</td>\n",
       "      <td>AGKHLEW2SOWHNMFQIJGBECAF7INQ</td>\n",
       "      <td>1588687728923</td>\n",
       "      <td>0</td>\n",
       "      <td>True</td>\n",
       "    </tr>\n",
       "    <tr>\n",
       "      <th>1</th>\n",
       "      <td>4.0</td>\n",
       "      <td>Works great but smells a little weird.</td>\n",
       "      <td>This product does what I need it to do, I just...</td>\n",
       "      <td>[]</td>\n",
       "      <td>B081TJ8YS3</td>\n",
       "      <td>B081TJ8YS3</td>\n",
       "      <td>AGKHLEW2SOWHNMFQIJGBECAF7INQ</td>\n",
       "      <td>1588615855070</td>\n",
       "      <td>1</td>\n",
       "      <td>True</td>\n",
       "    </tr>\n",
       "    <tr>\n",
       "      <th>2</th>\n",
       "      <td>5.0</td>\n",
       "      <td>Yes!</td>\n",
       "      <td>Smells good, feels great!</td>\n",
       "      <td>[]</td>\n",
       "      <td>B07PNNCSP9</td>\n",
       "      <td>B097R46CSY</td>\n",
       "      <td>AE74DYR3QUGVPZJ3P7RFWBGIX7XQ</td>\n",
       "      <td>1589665266052</td>\n",
       "      <td>2</td>\n",
       "      <td>True</td>\n",
       "    </tr>\n",
       "    <tr>\n",
       "      <th>3</th>\n",
       "      <td>1.0</td>\n",
       "      <td>Synthetic feeling</td>\n",
       "      <td>Felt synthetic</td>\n",
       "      <td>[]</td>\n",
       "      <td>B09JS339BZ</td>\n",
       "      <td>B09JS339BZ</td>\n",
       "      <td>AFQLNQNQYFWQZPJQZS6V3NZU4QBQ</td>\n",
       "      <td>1643393630220</td>\n",
       "      <td>0</td>\n",
       "      <td>True</td>\n",
       "    </tr>\n",
       "    <tr>\n",
       "      <th>4</th>\n",
       "      <td>5.0</td>\n",
       "      <td>A+</td>\n",
       "      <td>Love it</td>\n",
       "      <td>[]</td>\n",
       "      <td>B08BZ63GMJ</td>\n",
       "      <td>B08BZ63GMJ</td>\n",
       "      <td>AFQLNQNQYFWQZPJQZS6V3NZU4QBQ</td>\n",
       "      <td>1609322563534</td>\n",
       "      <td>0</td>\n",
       "      <td>True</td>\n",
       "    </tr>\n",
       "  </tbody>\n",
       "</table>\n",
       "</div>"
      ],
      "text/plain": [
       "   rating                                      title  \\\n",
       "0     5.0  Such a lovely scent but not overpowering.   \n",
       "1     4.0     Works great but smells a little weird.   \n",
       "2     5.0                                       Yes!   \n",
       "3     1.0                          Synthetic feeling   \n",
       "4     5.0                                         A+   \n",
       "\n",
       "                                                text images        asin  \\\n",
       "0  This spray is really nice. It smells really go...     []  B00YQ6X8EO   \n",
       "1  This product does what I need it to do, I just...     []  B081TJ8YS3   \n",
       "2                          Smells good, feels great!     []  B07PNNCSP9   \n",
       "3                                     Felt synthetic     []  B09JS339BZ   \n",
       "4                                            Love it     []  B08BZ63GMJ   \n",
       "\n",
       "  parent_asin                       user_id      timestamp  helpful_vote  \\\n",
       "0  B00YQ6X8EO  AGKHLEW2SOWHNMFQIJGBECAF7INQ  1588687728923             0   \n",
       "1  B081TJ8YS3  AGKHLEW2SOWHNMFQIJGBECAF7INQ  1588615855070             1   \n",
       "2  B097R46CSY  AE74DYR3QUGVPZJ3P7RFWBGIX7XQ  1589665266052             2   \n",
       "3  B09JS339BZ  AFQLNQNQYFWQZPJQZS6V3NZU4QBQ  1643393630220             0   \n",
       "4  B08BZ63GMJ  AFQLNQNQYFWQZPJQZS6V3NZU4QBQ  1609322563534             0   \n",
       "\n",
       "   verified_purchase  \n",
       "0               True  \n",
       "1               True  \n",
       "2               True  \n",
       "3               True  \n",
       "4               True  "
      ]
     },
     "execution_count": 16,
     "metadata": {},
     "output_type": "execute_result"
    }
   ],
   "source": [
    "df_reviews.head()"
   ]
  },
  {
   "cell_type": "code",
   "execution_count": 17,
   "id": "5c3e1321-c9f1-4694-9d7f-386fb46f2b1d",
   "metadata": {},
   "outputs": [
    {
     "name": "stdout",
     "output_type": "stream",
     "text": [
      "<class 'pandas.core.frame.DataFrame'>\n",
      "RangeIndex: 701528 entries, 0 to 701527\n",
      "Data columns (total 10 columns):\n",
      " #   Column             Non-Null Count   Dtype  \n",
      "---  ------             --------------   -----  \n",
      " 0   rating             701528 non-null  float64\n",
      " 1   title              701528 non-null  object \n",
      " 2   text               701528 non-null  object \n",
      " 3   images             701528 non-null  object \n",
      " 4   asin               701528 non-null  object \n",
      " 5   parent_asin        701528 non-null  object \n",
      " 6   user_id            701528 non-null  object \n",
      " 7   timestamp          701528 non-null  int64  \n",
      " 8   helpful_vote       701528 non-null  int64  \n",
      " 9   verified_purchase  701528 non-null  bool   \n",
      "dtypes: bool(1), float64(1), int64(2), object(6)\n",
      "memory usage: 48.8+ MB\n"
     ]
    }
   ],
   "source": [
    "df_reviews.info()"
   ]
  },
  {
   "cell_type": "markdown",
   "id": "1a9dc28d-2cad-468e-b2f9-5db80214b1c1",
   "metadata": {},
   "source": [
    "#### Columns Description\n",
    "| **Column**          | **DataType** | **Analysis Relevance**                     | **Possible Treatment**                                                                 |\n",
    "|----------------------|------------------|------------------------------------------------|-------------------------------------------------------------------------------------------|\n",
    "| `rating`             | `float64`        | **High** (target)                   | Convert to discret ( 1-2 = negative, 3 = neutral, 4-5 = positive).             |\n",
    "| `title`              | `object`         | **Media** (aditional context)                 | Concatenate with `text` for NLP analysis.                          |\n",
    "| `text`               | `object`         | **Very High** (primary source)                  | Text Cleaning (stopwords, emojis, URLs), tokenization, y vectorization (TF-IDF/BOW).  |\n",
    "| `images`             | `object`         | **Low**                                       | **Eliminar**                                   |\n",
    "| `asin`               | `object`         | **Null**                                       | **Eliminar**                               |\n",
    "| `parent_asin`        | `object`         | **Null**                                       | **Eliminar**                                                         |\n",
    "| `user_id`            | `object`         | **Null**                                       | **Eliminar**                                   |\n",
    "| `timestamp`          | `int64`          | **Low**                                       | **Eliminar**                    |\n",
    "| `helpful_vote`       | `int64`          | **Medium**                  | Normalize or create flag (ej: `helpful_vote > 5` = highlighted review).                      |\n",
    "| `verified_purchase`  | `bool`           | **High** (confiability)                      | Convert to binary (1/0) and use it as feature in the model.                             |"
   ]
  },
  {
   "cell_type": "markdown",
   "id": "db22403c-c4fe-42cd-b0b0-fa94fa108cac",
   "metadata": {},
   "source": [
    "I delete null values, duplicates and verify data types are correct"
   ]
  },
  {
   "cell_type": "code",
   "execution_count": 21,
   "id": "2afe77f9-91cd-4317-973d-1605af1a0829",
   "metadata": {},
   "outputs": [
    {
     "name": "stdout",
     "output_type": "stream",
     "text": [
      "Original DataFrame - Dimensions: (701528, 10)\n",
      "Cleaned DataFrame - Dimensions: (694253, 5)\n",
      "\n",
      "First rows of cleaned DataFrame:\n"
     ]
    },
    {
     "data": {
      "text/html": [
       "<div>\n",
       "<style scoped>\n",
       "    .dataframe tbody tr th:only-of-type {\n",
       "        vertical-align: middle;\n",
       "    }\n",
       "\n",
       "    .dataframe tbody tr th {\n",
       "        vertical-align: top;\n",
       "    }\n",
       "\n",
       "    .dataframe thead th {\n",
       "        text-align: right;\n",
       "    }\n",
       "</style>\n",
       "<table border=\"1\" class=\"dataframe\">\n",
       "  <thead>\n",
       "    <tr style=\"text-align: right;\">\n",
       "      <th></th>\n",
       "      <th>rating</th>\n",
       "      <th>title</th>\n",
       "      <th>text</th>\n",
       "      <th>helpful_vote</th>\n",
       "      <th>verified_purchase</th>\n",
       "    </tr>\n",
       "  </thead>\n",
       "  <tbody>\n",
       "    <tr>\n",
       "      <th>0</th>\n",
       "      <td>5.0</td>\n",
       "      <td>Such a lovely scent but not overpowering.</td>\n",
       "      <td>This spray is really nice. It smells really go...</td>\n",
       "      <td>0</td>\n",
       "      <td>True</td>\n",
       "    </tr>\n",
       "    <tr>\n",
       "      <th>1</th>\n",
       "      <td>4.0</td>\n",
       "      <td>Works great but smells a little weird.</td>\n",
       "      <td>This product does what I need it to do, I just...</td>\n",
       "      <td>1</td>\n",
       "      <td>True</td>\n",
       "    </tr>\n",
       "    <tr>\n",
       "      <th>2</th>\n",
       "      <td>5.0</td>\n",
       "      <td>Yes!</td>\n",
       "      <td>Smells good, feels great!</td>\n",
       "      <td>2</td>\n",
       "      <td>True</td>\n",
       "    </tr>\n",
       "    <tr>\n",
       "      <th>3</th>\n",
       "      <td>1.0</td>\n",
       "      <td>Synthetic feeling</td>\n",
       "      <td>Felt synthetic</td>\n",
       "      <td>0</td>\n",
       "      <td>True</td>\n",
       "    </tr>\n",
       "    <tr>\n",
       "      <th>4</th>\n",
       "      <td>5.0</td>\n",
       "      <td>A+</td>\n",
       "      <td>Love it</td>\n",
       "      <td>0</td>\n",
       "      <td>True</td>\n",
       "    </tr>\n",
       "  </tbody>\n",
       "</table>\n",
       "</div>"
      ],
      "text/plain": [
       "   rating                                      title  \\\n",
       "0     5.0  Such a lovely scent but not overpowering.   \n",
       "1     4.0     Works great but smells a little weird.   \n",
       "2     5.0                                       Yes!   \n",
       "3     1.0                          Synthetic feeling   \n",
       "4     5.0                                         A+   \n",
       "\n",
       "                                                text  helpful_vote  \\\n",
       "0  This spray is really nice. It smells really go...             0   \n",
       "1  This product does what I need it to do, I just...             1   \n",
       "2                          Smells good, feels great!             2   \n",
       "3                                     Felt synthetic             0   \n",
       "4                                            Love it             0   \n",
       "\n",
       "   verified_purchase  \n",
       "0               True  \n",
       "1               True  \n",
       "2               True  \n",
       "3               True  \n",
       "4               True  "
      ]
     },
     "execution_count": 21,
     "metadata": {},
     "output_type": "execute_result"
    }
   ],
   "source": [
    "# Create a copy of original dataset\n",
    "df_reviews_clean = df_reviews.copy()\n",
    "\n",
    "# Delete nulls in copy\n",
    "df_reviews_clean = df_reviews_clean.dropna()\n",
    "\n",
    "# Delete non hashable columns in the columns\n",
    "df_reviews_clean = df_reviews_clean.drop(columns=['images'])\n",
    "\n",
    "# Delete duplicates in the copy\n",
    "df_reviews_clean = df_reviews_clean.drop_duplicates()\n",
    "\n",
    "# Delete other unnecesary columns in the copy\n",
    "columnas_a_eliminar = ['asin', 'parent_asin', 'user_id','timestamp']\n",
    "df_reviews_clean = df_reviews_clean.drop(columns=columnas_a_eliminar)\n",
    "\n",
    "# See results! \n",
    "print(\"Original DataFrame - Dimensions:\", df_reviews.shape)\n",
    "print(\"Cleaned DataFrame - Dimensions:\", df_reviews_clean.shape)\n",
    "print(\"\\nFirst rows of cleaned DataFrame:\")\n",
    "df_reviews_clean.head()"
   ]
  },
  {
   "cell_type": "code",
   "execution_count": 22,
   "id": "3a3705c7-5fd8-4361-8c30-c7b8c6664e23",
   "metadata": {},
   "outputs": [
    {
     "data": {
      "image/png": "[encoded data removed]",
      "text/plain": [
       "<Figure size 1500x500 with 2 Axes>"
      ]
     },
     "metadata": {},
     "output_type": "display_data"
    }
   ],
   "source": [
    "# 'rating' column graphic distribution \n",
    "pinta_distribucion_categoricas(df_reviews_clean, columnas_categoricas=['rating'], mostrar_valores=True)"
   ]
  },
  {
   "cell_type": "code",
   "execution_count": 26,
   "id": "d2c30cb3-541a-4f7b-ba84-874507588d42",
   "metadata": {},
   "outputs": [],
   "source": [
    "# Create a new column for lenght with text lenght.\n",
    "df_reviews_clean['length'] = df_reviews_clean['text'].apply(len)\n"
   ]
  },
  {
   "cell_type": "code",
   "execution_count": 28,
   "id": "76052237-4293-4cc2-8d00-d6d0966fca04",
   "metadata": {},
   "outputs": [
    {
     "name": "stdout",
     "output_type": "stream",
     "text": [
      "Average review lenght: 173.10 characters.\n"
     ]
    }
   ],
   "source": [
    "# Calculate average lenght\n",
    "average_length = df_reviews_clean['length'].mean()\n",
    "print(f\"Average review lenght: {average_length:.2f} characters.\")"
   ]
  },
  {
   "cell_type": "code",
   "execution_count": 30,
   "id": "181026a5-09ff-4d0f-81b3-b633595499e5",
   "metadata": {},
   "outputs": [
    {
     "data": {
      "image/png": "[encoded data removed]",
      "text/plain": [
       "<Figure size 1500x500 with 2 Axes>"
      ]
     },
     "metadata": {},
     "output_type": "display_data"
    }
   ],
   "source": [
    "# Verified purchase frequency distribution\n",
    "pinta_distribucion_categoricas(df_reviews_clean, columnas_categoricas=['verified_purchase'], relativa=True, mostrar_valores=True)\n"
   ]
  }
 ],
 "metadata": {
  "kernelspec": {
   "display_name": "Python 3 (ipykernel)",
   "language": "python",
   "name": "python3"
  },
  "language_info": {
   "codemirror_mode": {
    "name": "ipython",
    "version": 3
   },
   "file_extension": ".py",
   "mimetype": "text/x-python",
   "name": "python",
   "nbconvert_exporter": "python",
   "pygments_lexer": "ipython3",
   "version": "3.12.7"
  }
 },
 "nbformat": 4,
 "nbformat_minor": 5
}
