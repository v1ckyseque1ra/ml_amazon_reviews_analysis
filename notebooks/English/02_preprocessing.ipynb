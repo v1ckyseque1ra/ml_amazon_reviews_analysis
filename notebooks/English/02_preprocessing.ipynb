{
 "cells": [
  {
   "cell_type": "markdown",
   "id": "7f980c2d-c545-4619-9dd6-05689a073660",
   "metadata": {},
   "source": [
    "### Data Preprocessing \n",
    "\n",
    "I concatenate the title with the text because I think, given the title is shorter it contains more keywords that can be useful and it doesn't make sense work on them separately.\n"
   ]
  },
  {
   "cell_type": "code",
   "execution_count": 33,
   "id": "0c22e56f-83e5-4569-ab38-65747806c809",
   "metadata": {},
   "outputs": [
    {
     "data": {
      "text/html": [
       "<div>\n",
       "<style scoped>\n",
       "    .dataframe tbody tr th:only-of-type {\n",
       "        vertical-align: middle;\n",
       "    }\n",
       "\n",
       "    .dataframe tbody tr th {\n",
       "        vertical-align: top;\n",
       "    }\n",
       "\n",
       "    .dataframe thead th {\n",
       "        text-align: right;\n",
       "    }\n",
       "</style>\n",
       "<table border=\"1\" class=\"dataframe\">\n",
       "  <thead>\n",
       "    <tr style=\"text-align: right;\">\n",
       "      <th></th>\n",
       "      <th>rating</th>\n",
       "      <th>text</th>\n",
       "      <th>helpful_vote</th>\n",
       "      <th>verified_purchase</th>\n",
       "      <th>length</th>\n",
       "    </tr>\n",
       "  </thead>\n",
       "  <tbody>\n",
       "    <tr>\n",
       "      <th>0</th>\n",
       "      <td>5.0</td>\n",
       "      <td>This spray is really nice. It smells really go...</td>\n",
       "      <td>0</td>\n",
       "      <td>True</td>\n",
       "      <td>300</td>\n",
       "    </tr>\n",
       "    <tr>\n",
       "      <th>1</th>\n",
       "      <td>4.0</td>\n",
       "      <td>This product does what I need it to do, I just...</td>\n",
       "      <td>1</td>\n",
       "      <td>True</td>\n",
       "      <td>235</td>\n",
       "    </tr>\n",
       "    <tr>\n",
       "      <th>2</th>\n",
       "      <td>5.0</td>\n",
       "      <td>Smells good, feels great! Yes!</td>\n",
       "      <td>2</td>\n",
       "      <td>True</td>\n",
       "      <td>25</td>\n",
       "    </tr>\n",
       "    <tr>\n",
       "      <th>3</th>\n",
       "      <td>1.0</td>\n",
       "      <td>Felt synthetic Synthetic feeling</td>\n",
       "      <td>0</td>\n",
       "      <td>True</td>\n",
       "      <td>14</td>\n",
       "    </tr>\n",
       "    <tr>\n",
       "      <th>4</th>\n",
       "      <td>5.0</td>\n",
       "      <td>Love it A+</td>\n",
       "      <td>0</td>\n",
       "      <td>True</td>\n",
       "      <td>7</td>\n",
       "    </tr>\n",
       "  </tbody>\n",
       "</table>\n",
       "</div>"
      ],
      "text/plain": [
       "   rating                                               text  helpful_vote  \\\n",
       "0     5.0  This spray is really nice. It smells really go...             0   \n",
       "1     4.0  This product does what I need it to do, I just...             1   \n",
       "2     5.0                     Smells good, feels great! Yes!             2   \n",
       "3     1.0                   Felt synthetic Synthetic feeling             0   \n",
       "4     5.0                                         Love it A+             0   \n",
       "\n",
       "   verified_purchase  length  \n",
       "0               True     300  \n",
       "1               True     235  \n",
       "2               True      25  \n",
       "3               True      14  \n",
       "4               True       7  "
      ]
     },
     "execution_count": 33,
     "metadata": {},
     "output_type": "execute_result"
    }
   ],
   "source": [
    "def concat_columns(df, col1, col2, new_col):\n",
    "    df[new_col] = df[col1].apply(str) + ' ' + df[col2].apply(str)\n",
    "    df.drop(col2, axis = 1, inplace = True)\n",
    "    return df\n",
    "\n",
    "df_reviews_clean = concat_columns(df_reviews_clean, 'text', 'title', 'text')\n",
    "df_reviews_clean.head()"
   ]
  },
  {
   "cell_type": "markdown",
   "id": "fbffff25-7b8a-47cc-9408-e15980c190b7",
   "metadata": {},
   "source": [
    "Convert all 'text' column character to lower case."
   ]
  },
  {
   "cell_type": "code",
   "execution_count": 36,
   "id": "d3821239-a3d7-478b-96cb-42ccec6b65e4",
   "metadata": {},
   "outputs": [],
   "source": [
    "# Conversion'text' to lower case\n",
    "df_reviews_clean['text'] = df_reviews_clean['text'].str.lower()"
   ]
  },
  {
   "cell_type": "markdown",
   "id": "8e378fce-75c3-4221-a876-56e9f05d0813",
   "metadata": {},
   "source": [
    " Elimino caracteres especiales, numeros y stopwords"
   ]
  },
  {
   "cell_type": "code",
   "execution_count": 38,
   "id": "47b37ecc-abeb-4ea2-8ce9-cbe881270840",
   "metadata": {},
   "outputs": [
    {
     "name": "stderr",
     "output_type": "stream",
     "text": [
      "[nltk_data] Downloading package stopwords to\n",
      "[nltk_data]     C:\\Users\\Vicky\\AppData\\Roaming\\nltk_data...\n",
      "[nltk_data]   Package stopwords is already up-to-date!\n"
     ]
    },
    {
     "name": "stdout",
     "output_type": "stream",
     "text": [
      "=== Cleaning example ===\n",
      "Original: this spray is really nice. it smells really good, goes on really fine, and does the trick. i will say it feels like you need a lot of it though to get the texture i want. i have a lot of hair, medium thickness. i am comparing to other brands with yucky chemicals so i'm gonna stick with this. try it! such a lovely scent but not overpowering.\n",
      "Clean: spray really nice smells really good goes really fine trick say feels like need lot though get texture want lot hair medium thickness comparing brands yucky chemicals im gonna stick try lovely scent overpowering\n"
     ]
    }
   ],
   "source": [
    "# Dowload stopwords \n",
    "nltk.download('stopwords')\n",
    "\n",
    "# Load english stopwords\n",
    "stop_words = set(stopwords.words('english'))\n",
    "\n",
    "# Clean text function\n",
    "def clean_text(texto):\n",
    "    if not isinstance(texto, str):\n",
    "        return \"\"\n",
    "    \n",
    "    # 1. Eliminar caracteres especiales y números (conserva letras y espacios)\n",
    "    texto_limpio = re.sub(r'[^a-zA-ZáéíóúüñÁÉÍÓÚÜÑ\\s]', '', texto)\n",
    "    \n",
    "    # 2. Eliminar stopwords\n",
    "    palabras = texto_limpio.split()\n",
    "    palabras_filtradas = [palabra for palabra in palabras if palabra not in stop_words]\n",
    "    \n",
    "    # 3. Unir palabras nuevamente\n",
    "    return ' '.join(palabras_filtradas)\n",
    "\n",
    "# Aplicar a la columna 'text'\n",
    "df_reviews_clean['clean_text'] = df_reviews_clean['text'].apply(clean_text)\n",
    "\n",
    "# Mostrar ejemplo antes/después\n",
    "print(\"=== Cleaning example ===\")\n",
    "print(\"Original:\", df_reviews_clean['text'].iloc[0])\n",
    "print(\"Clean:\", df_reviews_clean['clean_text'].iloc[0])"
   ]
  },
  {
   "cell_type": "code",
   "execution_count": 40,
   "id": "f790a4da-144a-4e63-af73-7f6dc281a1ba",
   "metadata": {},
   "outputs": [
    {
     "data": {
      "text/html": [
       "<div>\n",
       "<style scoped>\n",
       "    .dataframe tbody tr th:only-of-type {\n",
       "        vertical-align: middle;\n",
       "    }\n",
       "\n",
       "    .dataframe tbody tr th {\n",
       "        vertical-align: top;\n",
       "    }\n",
       "\n",
       "    .dataframe thead th {\n",
       "        text-align: right;\n",
       "    }\n",
       "</style>\n",
       "<table border=\"1\" class=\"dataframe\">\n",
       "  <thead>\n",
       "    <tr style=\"text-align: right;\">\n",
       "      <th></th>\n",
       "      <th>rating</th>\n",
       "      <th>helpful_vote</th>\n",
       "      <th>verified_purchase</th>\n",
       "      <th>length</th>\n",
       "      <th>clean_text</th>\n",
       "    </tr>\n",
       "  </thead>\n",
       "  <tbody>\n",
       "    <tr>\n",
       "      <th>0</th>\n",
       "      <td>5.0</td>\n",
       "      <td>0</td>\n",
       "      <td>True</td>\n",
       "      <td>300</td>\n",
       "      <td>spray really nice smells really good goes real...</td>\n",
       "    </tr>\n",
       "    <tr>\n",
       "      <th>1</th>\n",
       "      <td>4.0</td>\n",
       "      <td>1</td>\n",
       "      <td>True</td>\n",
       "      <td>235</td>\n",
       "      <td>product need wish odorless soft coconut smell ...</td>\n",
       "    </tr>\n",
       "    <tr>\n",
       "      <th>2</th>\n",
       "      <td>5.0</td>\n",
       "      <td>2</td>\n",
       "      <td>True</td>\n",
       "      <td>25</td>\n",
       "      <td>smells good feels great yes</td>\n",
       "    </tr>\n",
       "    <tr>\n",
       "      <th>3</th>\n",
       "      <td>1.0</td>\n",
       "      <td>0</td>\n",
       "      <td>True</td>\n",
       "      <td>14</td>\n",
       "      <td>felt synthetic synthetic feeling</td>\n",
       "    </tr>\n",
       "    <tr>\n",
       "      <th>4</th>\n",
       "      <td>5.0</td>\n",
       "      <td>0</td>\n",
       "      <td>True</td>\n",
       "      <td>7</td>\n",
       "      <td>love</td>\n",
       "    </tr>\n",
       "  </tbody>\n",
       "</table>\n",
       "</div>"
      ],
      "text/plain": [
       "   rating  helpful_vote  verified_purchase  length  \\\n",
       "0     5.0             0               True     300   \n",
       "1     4.0             1               True     235   \n",
       "2     5.0             2               True      25   \n",
       "3     1.0             0               True      14   \n",
       "4     5.0             0               True       7   \n",
       "\n",
       "                                          clean_text  \n",
       "0  spray really nice smells really good goes real...  \n",
       "1  product need wish odorless soft coconut smell ...  \n",
       "2                        smells good feels great yes  \n",
       "3                   felt synthetic synthetic feeling  \n",
       "4                                               love  "
      ]
     },
     "execution_count": 40,
     "metadata": {},
     "output_type": "execute_result"
    }
   ],
   "source": [
    "# Eliminate the original 'text' column preserving only 'clean_text'\n",
    "df_reviews_clean = df_reviews_clean.drop(columns=['text'])\n",
    "df_reviews_clean.head()"
   ]
  },
  {
   "cell_type": "markdown",
   "id": "fd3bc653-469b-404c-a9b5-55d679a61f64",
   "metadata": {},
   "source": [
    "Save the preprocessed dataset in folder 'data_sample/processed'"
   ]
  },
  {
   "cell_type": "code",
   "execution_count": 46,
   "id": "eae083bf-e52b-4a4f-832f-31b7d724e77e",
   "metadata": {},
   "outputs": [
    {
     "name": "stdout",
     "output_type": "stream",
     "text": [
      "File saved in: C:\\Users\\Vicky\\Documents\\ML_Amazon_Reviews_Sentiment_Analysis\\data_sample\\processed!\n"
     ]
    }
   ],
   "source": [
    "# Ruta ABSOLUTA \n",
    "destin_path = r'C:\\Users\\Vicky\\Documents\\ML_Amazon_Reviews_Sentiment_Analysis\\data_sample\\processed'\n",
    "\n",
    "# Guardo el archivo\n",
    "df_reviews_clean.to_csv(os.path.join(destin_path, 'preprocessed_reviews.csv'), index=False)\n",
    "\n",
    "print(f\"File saved in: {destin_path}!\")"
   ]
  },
  {
   "cell_type": "markdown",
   "id": "c31e35e1-b494-48ff-b9a2-ba52b6fd8990",
   "metadata": {},
   "source": [
    "### Text Tokenization"
   ]
  },
  {
   "cell_type": "code",
   "execution_count": 5,
   "id": "e8a76b0a-2a19-4c38-8735-17c51bc727d7",
   "metadata": {},
   "outputs": [
    {
     "name": "stderr",
     "output_type": "stream",
     "text": [
      "[nltk_data] Downloading package punkt to\n",
      "[nltk_data]     C:\\Users\\Vicky\\AppData\\Roaming\\nltk_data...\n",
      "[nltk_data]   Package punkt is already up-to-date!\n"
     ]
    },
    {
     "data": {
      "text/plain": [
       "True"
      ]
     },
     "execution_count": 5,
     "metadata": {},
     "output_type": "execute_result"
    }
   ],
   "source": [
    "import nltk\n",
    "nltk.download('punkt') "
   ]
  },
  {
   "cell_type": "markdown",
   "id": "af199c6e-526b-4b54-878c-5b4a965fbee2",
   "metadata": {},
   "source": [
    "'word_tokenize'  is an nltk function that divides  a text in individual words (tokens) based in Punkt "
   ]
  },
  {
   "cell_type": "code",
   "execution_count": 7,
   "id": "37fe7498-99c9-40f2-8303-67a0fa1171b9",
   "metadata": {},
   "outputs": [
    {
     "ename": "NameError",
     "evalue": "name 'df_reviews_clean' is not defined",
     "output_type": "error",
     "traceback": [
      "\u001b[1;31m---------------------------------------------------------------------------\u001b[0m",
      "\u001b[1;31mNameError\u001b[0m                                 Traceback (most recent call last)",
      "Cell \u001b[1;32mIn[7], line 3\u001b[0m\n\u001b[0;32m      1\u001b[0m \u001b[38;5;28;01mfrom\u001b[39;00m \u001b[38;5;21;01mnltk\u001b[39;00m\u001b[38;5;21;01m.\u001b[39;00m\u001b[38;5;21;01mtokenize\u001b[39;00m \u001b[38;5;28;01mimport\u001b[39;00m word_tokenize\n\u001b[1;32m----> 3\u001b[0m df_reviews_clean[\u001b[38;5;124m'\u001b[39m\u001b[38;5;124mtokens\u001b[39m\u001b[38;5;124m'\u001b[39m] \u001b[38;5;241m=\u001b[39m \u001b[43mdf_reviews_clean\u001b[49m[\u001b[38;5;124m'\u001b[39m\u001b[38;5;124mtext_limpio\u001b[39m\u001b[38;5;124m'\u001b[39m]\u001b[38;5;241m.\u001b[39mapply(\u001b[38;5;28;01mlambda\u001b[39;00m x: word_tokenize(\u001b[38;5;28mstr\u001b[39m(x)\u001b[38;5;241m.\u001b[39mlower()))\n",
      "\u001b[1;31mNameError\u001b[0m: name 'df_reviews_clean' is not defined"
     ]
    }
   ],
   "source": [
    "from nltk.tokenize import word_tokenize\n",
    "\n",
    "df_reviews_clean['tokens'] = df_reviews_clean['text_limpio'].apply(lambda x: word_tokenize(str(x).lower()))\n"
   ]
  }
 ],
 "metadata": {
  "kernelspec": {
   "display_name": "Python 3 (ipykernel)",
   "language": "python",
   "name": "python3"
  },
  "language_info": {
   "codemirror_mode": {
    "name": "ipython",
    "version": 3
   },
   "file_extension": ".py",
   "mimetype": "text/x-python",
   "name": "python",
   "nbconvert_exporter": "python",
   "pygments_lexer": "ipython3",
   "version": "3.12.7"
  }
 },
 "nbformat": 4,
 "nbformat_minor": 5
}
