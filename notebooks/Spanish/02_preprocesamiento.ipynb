{
 "cells": [
  {
   "cell_type": "markdown",
   "id": "3c2e2b8e-0e17-4bfb-b0e9-dfd55d7deb1a",
   "metadata": {},
   "source": [
    "### Preprocesamiento de datos \n",
    "\n",
    "Uno el titulo con el texto porque creo que, al ser el titulo mas corto, contiene mas palabras claves que pueden ser utiles y no tiene sentido trabajarlas por separado"
   ]
  },
  {
   "cell_type": "code",
   "execution_count": 39,
   "id": "add38e3c-f87d-4223-8fae-14a4c61db2c8",
   "metadata": {},
   "outputs": [],
   "source": [
    "def concat_columns(df, col1, col2, new_col):\n",
    "    df[new_col] = df[col1].apply(str) + ' ' + df[col2].apply(str)\n",
    "    df.drop(col2, axis = 1, inplace = True)\n",
    "    return df\n",
    "\n",
    "df_reviews_clean = concat_columns(df_reviews_clean, 'text', 'title', 'text')\n"
   ]
  },
  {
   "cell_type": "code",
   "execution_count": 40,
   "id": "244953f8-6f8a-445c-b18f-4886e2474c8b",
   "metadata": {},
   "outputs": [
    {
     "name": "stdout",
     "output_type": "stream",
     "text": [
      "<class 'pandas.core.frame.DataFrame'>\n",
      "Index: 8306 entries, 0 to 8312\n",
      "Data columns (total 5 columns):\n",
      " #   Column             Non-Null Count  Dtype \n",
      "---  ------             --------------  ----- \n",
      " 0   rating             8306 non-null   int64 \n",
      " 1   text               8306 non-null   object\n",
      " 2   helpful_vote       8306 non-null   int64 \n",
      " 3   verified_purchase  8306 non-null   bool  \n",
      " 4   length             8306 non-null   int64 \n",
      "dtypes: bool(1), int64(3), object(1)\n",
      "memory usage: 332.6+ KB\n"
     ]
    }
   ],
   "source": [
    "df_reviews_clean.info()"
   ]
  },
  {
   "cell_type": "markdown",
   "id": "d9b0878b-90cc-459e-bd56-09d7b8720af3",
   "metadata": {},
   "source": [
    "Convierto todos los caracteres de la columna 'text' a minusculas"
   ]
  },
  {
   "cell_type": "code",
   "execution_count": 42,
   "id": "2d550142-b146-45cc-8c8d-1ad149c6b1de",
   "metadata": {},
   "outputs": [],
   "source": [
    "# Conversion'text' a minúsculas\n",
    "df_reviews_clean['text'] = df_reviews_clean['text'].str.lower()"
   ]
  },
  {
   "cell_type": "markdown",
   "id": "13eba885-9c6f-4df1-ad24-8bf87d31eea9",
   "metadata": {},
   "source": [
    "Elimino caracteres especiales, numeros y stopwords"
   ]
  },
  {
   "cell_type": "code",
   "execution_count": 44,
   "id": "8ed1ee6e-6a55-48a1-80c9-cc572b73451a",
   "metadata": {},
   "outputs": [
    {
     "name": "stderr",
     "output_type": "stream",
     "text": [
      "[nltk_data] Downloading package stopwords to\n",
      "[nltk_data]     C:\\Users\\Vicky\\AppData\\Roaming\\nltk_data...\n",
      "[nltk_data]   Package stopwords is already up-to-date!\n"
     ]
    },
    {
     "name": "stdout",
     "output_type": "stream",
     "text": [
      "=== Ejemplo de limpieza ===\n",
      "Original: this spray is really nice. it smells really good, goes on really fine, and does the trick. i will say it feels like you need a lot of it though to get the texture i want. i have a lot of hair, medium thickness. i am comparing to other brands with yucky chemicals so i'm gonna stick with this. try it! such a lovely scent but not overpowering.\n",
      "Limpio: spray really nice smells really good goes really fine trick say feels like need lot though get texture want lot hair medium thickness comparing brands yucky chemicals im gonna stick try lovely scent overpowering\n"
     ]
    }
   ],
   "source": [
    "# Descargo stopwords \n",
    "nltk.download('stopwords')\n",
    "\n",
    "# Cargo stopwords en ingles\n",
    "stop_words = set(stopwords.words('english'))\n",
    "\n",
    "# Funcion para limpiar el texto \n",
    "def limpiar_texto(texto):\n",
    "    if not isinstance(texto, str):\n",
    "        return \"\"\n",
    "    \n",
    "    # 1. Eliminar caracteres especiales y números (conserva letras y espacios)\n",
    "    texto_limpio = re.sub(r'[^a-zA-ZáéíóúüñÁÉÍÓÚÜÑ\\s]', '', texto)\n",
    "    \n",
    "    # 2. Eliminar stopwords\n",
    "    palabras = texto_limpio.split()\n",
    "    palabras_filtradas = [palabra for palabra in palabras if palabra not in stop_words]\n",
    "    \n",
    "    # 3. Unir palabras nuevamente\n",
    "    return ' '.join(palabras_filtradas)\n",
    "\n",
    "# Aplicar a la columna 'text'\n",
    "df_reviews_clean['text_limpio'] = df_reviews_clean['text'].apply(limpiar_texto)\n",
    "\n",
    "# Mostrar ejemplo antes/después\n",
    "print(\"=== Ejemplo de limpieza ===\")\n",
    "print(\"Original:\", df_reviews_clean['text'].iloc[0])\n",
    "print(\"Limpio:\", df_reviews_clean['text_limpio'].iloc[0])"
   ]
  },
  {
   "cell_type": "code",
   "execution_count": 45,
   "id": "90fa2f08-aa73-4f86-88fc-6fdc8b6f260a",
   "metadata": {},
   "outputs": [],
   "source": [
    "# Elimino la columna 'text' original y conservo solo 'text_limpio'\n",
    "df_reviews_clean = df_reviews_clean.drop(columns=['text'])"
   ]
  },
  {
   "cell_type": "markdown",
   "id": "8f214e9d-a6e9-400e-8b35-1b97fc1ecb33",
   "metadata": {},
   "source": [
    "Guardo el dataset preprocesado en la carpeta 'data_sample/processed'"
   ]
  },
  {
   "cell_type": "code",
   "execution_count": 47,
   "id": "0f433c77-c8e5-48e4-8b40-70d6137ce4e3",
   "metadata": {},
   "outputs": [
    {
     "name": "stdout",
     "output_type": "stream",
     "text": [
      "¡Archivo guardado en: C:\\Users\\Vicky\\Documents\\ML_Amazon_Reviews_Analysis\\data_sample\\processed\n"
     ]
    }
   ],
   "source": [
    "# Ruta ABSOLUTA \n",
    "ruta_destino = r'C:\\Users\\Vicky\\Documents\\ML_Amazon_Reviews_Analysis\\data_sample\\processed'\n",
    "\n",
    "# Guardo el archivo\n",
    "df_reviews_clean.to_csv(os.path.join(ruta_destino, 'reviews_preprocesadas.csv'), index=False)\n",
    "\n",
    "print(f\"¡Archivo guardado en: {ruta_destino}\")"
   ]
  },
  {
   "cell_type": "markdown",
   "id": "5bdcc5e6-9173-4784-8358-7247f3c8c078",
   "metadata": {},
   "source": [
    "### Clasificacion del sentimiento\n",
    "\n",
    "Reseñas positivas: rating >= 4\n",
    "\n",
    "Reseñas neutras: rating == 3\n",
    "\n",
    "Reseñas negativas: rating <= 2"
   ]
  },
  {
   "cell_type": "code",
   "execution_count": 49,
   "id": "db89a278-e6e3-425b-8bf2-d64b1e7960ea",
   "metadata": {},
   "outputs": [
    {
     "name": "stdout",
     "output_type": "stream",
     "text": [
      "sentimiento\n",
      "positivo    6344\n",
      "negativo    1139\n",
      "neutral      823\n",
      "Name: count, dtype: int64\n",
      "\n",
      "Ejemplo de reseña positiva:\n",
      "[[5 'really impressed nice price great pair buy']]\n",
      "\n",
      "Ejemplo de reseña neutral:\n",
      "[[3\n",
      "  'youre dog owner practically guaranteed point deal dog dirty muddy paws happens often bichon mac naturally recently happened right cleaned mopped house lol ordered mr ros automatic cleaner smallmedium dogs sturdy durable flimsy roughly tall removable mat silicone bristles interior easily removable cleaning purposes bristles soft hard sharp arrived already charged usb cord included operate simply add water washer cups per instructions liquid soap may added well didnt use soap turn washer onit make noise though terribly loud alland place dogs paw washer minutes dry paw towel cleaning mac wasnt thrilled throughout cleaning process also wasnt really scared husband started pour dirty water could stop wont see much see photo water discolored bit following cleaning wet towel isnt enough clean macs muddydirty paws regular cleaning method put lukewarm water small bowl dunk paw one time use hand remove dirt fur submerged quite honestly really dont see much difference cleaning method dr ros paw washer perhaps results vary depending breed dog bichon really dont see difference results dunking bowl water']]\n",
      "\n",
      "Ejemplo de reseña negativa:\n",
      "[[1\n",
      "  'month testing black circles puffiness gone also every week got better better addicted new product order great gift bonus smell great moisture updated got rash']]\n"
     ]
    }
   ],
   "source": [
    "# Clasificación basada en el rating\n",
    "df_reviews_clean['sentimiento'] = pd.cut(\n",
    "    df_reviews_clean['rating'],\n",
    "    bins=[0, 2, 3, 5],  # Límites: <=2, ==3, >=4\n",
    "    labels=['negativo', 'neutral', 'positivo'],\n",
    "    right=True  # Incluye el límite superior (ej: 2.9 se redondea a negativo)\n",
    ")\n",
    "\n",
    "# Mostrar conteo de cada categoría\n",
    "print(df_reviews_clean['sentimiento'].value_counts())\n",
    "\n",
    "# Opcional: Filtrar ejemplos por categoría\n",
    "print(\"\\nEjemplo de reseña positiva:\")\n",
    "print(df_reviews_clean[df_reviews_clean['sentimiento'] == 'positivo'].sample(1)[['rating', 'text_limpio']].values)\n",
    "\n",
    "print(\"\\nEjemplo de reseña neutral:\")\n",
    "print(df_reviews_clean[df_reviews_clean['sentimiento'] == 'neutral'].sample(1)[['rating', 'text_limpio']].values)\n",
    "\n",
    "print(\"\\nEjemplo de reseña negativa:\")\n",
    "print(df_reviews_clean[df_reviews_clean['sentimiento'] == 'negativo'].sample(1)[['rating', 'text_limpio']].values)"
   ]
  },
  {
   "cell_type": "markdown",
   "id": "51441e38-4f17-4d81-84eb-2506a25e1fc0",
   "metadata": {},
   "source": [
    "### Tokenizacion del texto"
   ]
  },
  {
   "cell_type": "code",
   "execution_count": 51,
   "id": "0dcbbc54-3178-4ece-bb76-f616d8f1b2bd",
   "metadata": {},
   "outputs": [
    {
     "name": "stderr",
     "output_type": "stream",
     "text": [
      "[nltk_data] Downloading package punkt to\n",
      "[nltk_data]     C:\\Users\\Vicky\\AppData\\Roaming\\nltk_data...\n",
      "[nltk_data]   Package punkt is already up-to-date!\n"
     ]
    },
    {
     "data": {
      "text/plain": [
       "True"
      ]
     },
     "execution_count": 51,
     "metadata": {},
     "output_type": "execute_result"
    }
   ],
   "source": [
    "import nltk\n",
    "nltk.download('punkt') # es un modelo de tokenización basado en reglas que permite dividir un texto en palabras o frases."
   ]
  },
  {
   "cell_type": "markdown",
   "id": "e60a452e-6fee-4729-8309-65ab0e245674",
   "metadata": {},
   "source": [
    "'word_tokenize'  es una función de nltk que divide un texto en palabras individuales (tokens), basada en Punkt, que es un modelo de tokenizacion"
   ]
  },
  {
   "cell_type": "code",
   "execution_count": 53,
   "id": "e0923586-fd17-463c-86b9-a93a75a86116",
   "metadata": {},
   "outputs": [],
   "source": [
    "from nltk.tokenize import word_tokenize\n",
    "\n",
    "df_reviews_clean['tokens'] = df_reviews_clean['text_limpio'].apply(lambda x: word_tokenize(str(x).lower()))\n"
   ]
  },
  {
   "cell_type": "code",
   "execution_count": 54,
   "id": "3ec10fa2-fcd4-461a-9279-01001ea09ad2",
   "metadata": {},
   "outputs": [
    {
     "name": "stdout",
     "output_type": "stream",
     "text": [
      "Train: 6644 muestras (80.0%)\n",
      "Test: 1662 muestras (20.0%)\n",
      "\n",
      "Distribución en Train:\n",
      "sentimiento\n",
      "positivo    0.763847\n",
      "negativo    0.137116\n",
      "neutral     0.099037\n",
      "Name: proportion, dtype: float64\n",
      "\n",
      "Distribución en Test:\n",
      "sentimiento\n",
      "positivo    0.763538\n",
      "negativo    0.137184\n",
      "neutral     0.099278\n",
      "Name: proportion, dtype: float64\n"
     ]
    }
   ],
   "source": [
    "from sklearn.model_selection import train_test_split\n",
    "\n",
    "# Dividir los datos en train (80%) y test (20%) \n",
    "# - estratificando por la columna 'sentimiento' (si existe)\n",
    "# - semilla aleatoria (random_state) para reproducibilidad\n",
    "\n",
    "train_df, test_df = train_test_split(\n",
    "    df_reviews_clean,\n",
    "    test_size=0.2,                # 20% para test\n",
    "    random_state=42,              # semilla para reproducibilidad\n",
    "    stratify=df_reviews_clean['sentimiento']  # mantiene proporción de clases\n",
    ")\n",
    "\n",
    "# Verificar tamaños\n",
    "print(f\"Train: {len(train_df)} muestras ({len(train_df)/len(df_reviews_clean)*100:.1f}%)\")\n",
    "print(f\"Test: {len(test_df)} muestras ({len(test_df)/len(df_reviews_clean)*100:.1f}%)\")\n",
    "\n",
    "# Verificar distribución de clases en train y test (si es clasificación)\n",
    "print(\"\\nDistribución en Train:\")\n",
    "print(train_df['sentimiento'].value_counts(normalize=True))\n",
    "\n",
    "print(\"\\nDistribución en Test:\")\n",
    "print(test_df['sentimiento'].value_counts(normalize=True))"
   ]
  },
  {
   "cell_type": "markdown",
   "id": "12e73254-c019-4755-956c-46113d6ec06f",
   "metadata": {},
   "source": [
    "Como el dataset esta ampliamente desbalanceado, realizo algunas técnicas de balanceo del conjunto de entrenamiento.\n",
    "\n",
    "Primero veo la distribución de clases"
   ]
  },
  {
   "cell_type": "code",
   "execution_count": 56,
   "id": "248a40a1-6113-413e-999a-0d9a7a15f2b8",
   "metadata": {},
   "outputs": [
    {
     "name": "stdout",
     "output_type": "stream",
     "text": [
      "Distribución de clases:\n",
      " sentimiento\n",
      "positivo    6344\n",
      "negativo    1139\n",
      "neutral      823\n",
      "Name: count, dtype: int64\n"
     ]
    },
    {
     "data": {
      "image/png": "[encoded data removed]",
      "text/plain": [
       "<Figure size 800x600 with 1 Axes>"
      ]
     },
     "metadata": {},
     "output_type": "display_data"
    }
   ],
   "source": [
    "import pandas as pd\n",
    "import matplotlib.pyplot as plt\n",
    "from collections import Counter\n",
    "\n",
    "# Distribución de clases\n",
    "class_dist = df_reviews_clean['sentimiento'].value_counts()\n",
    "print(\"Distribución de clases:\\n\", class_dist)\n",
    "\n",
    "# Gráfico\n",
    "plt.figure(figsize=(8, 6))\n",
    "class_dist.plot(kind='bar', color=['skyblue', 'salmon', 'lightgreen'])\n",
    "plt.title('Distribución de Clases de Sentimiento')\n",
    "plt.xlabel('Categoría de Sentimiento')\n",
    "plt.ylabel('Cantidad de Reviews')\n",
    "plt.xticks(rotation=0)\n",
    "plt.show()"
   ]
  },
  {
   "cell_type": "markdown",
   "id": "2844f4e5-c778-43ad-8e73-36c8062453b6",
   "metadata": {},
   "source": [
    "### Tecnicas de balanceo\n",
    "\n",
    "#### A. Random oversampling"
   ]
  },
  {
   "cell_type": "code",
   "execution_count": 58,
   "id": "498a40bb-fe0e-4250-945f-f6e8e3de8127",
   "metadata": {},
   "outputs": [
    {
     "name": "stdout",
     "output_type": "stream",
     "text": [
      "Nueva distribución: Counter({'positivo': 6344, 'negativo': 6344, 'neutral': 6344})\n"
     ]
    }
   ],
   "source": [
    "from imblearn.over_sampling import RandomOverSampler\n",
    "\n",
    "# Separar características y target\n",
    "X = df_reviews_clean.drop('sentimiento', axis=1)\n",
    "y = df_reviews_clean['sentimiento']\n",
    "\n",
    "# Convertir variables categóricas a numéricas si es necesario\n",
    "X = pd.get_dummies(X, columns=['verified_purchase'])\n",
    "\n",
    "# Oversampling\n",
    "ros = RandomOverSampler(random_state=42)\n",
    "X_res, y_res = ros.fit_resample(X, y)\n",
    "\n",
    "# Verificar nuevo balance\n",
    "print(\"Nueva distribución:\", Counter(y_res))"
   ]
  },
  {
   "cell_type": "markdown",
   "id": "8b6378b6-c007-44ee-92eb-e022b6b1b6cc",
   "metadata": {},
   "source": [
    "#### B. SMOTE"
   ]
  },
  {
   "cell_type": "markdown",
   "id": "7c6a07a3-6253-44ff-a625-d7d9fdfef61a",
   "metadata": {},
   "source": [
    "#### C. Ajuste de pesos en modelos (Class weight)"
   ]
  },
  {
   "cell_type": "code",
   "execution_count": 61,
   "id": "e2ac62d3-8186-4e0d-8908-ae1992c563d8",
   "metadata": {},
   "outputs": [],
   "source": [
    "from sklearn.linear_model import LogisticRegression\n",
    "from sklearn.model_selection import train_test_split\n",
    "\n",
    "# Calcular pesos de clase\n",
    "class_weights = dict(\n",
    "    1 / df_reviews_clean['sentimiento'].value_counts(normalize=True)\n",
    ")\n"
   ]
  },
  {
   "cell_type": "code",
   "execution_count": null,
   "id": "64391acf-1deb-4d86-b43d-2b5f616e173a",
   "metadata": {},
   "outputs": [],
   "source": []
  }
 ],
 "metadata": {
  "kernelspec": {
   "display_name": "Python 3 (ipykernel)",
   "language": "python",
   "name": "python3"
  },
  "language_info": {
   "codemirror_mode": {
    "name": "ipython",
    "version": 3
   },
   "file_extension": ".py",
   "mimetype": "text/x-python",
   "name": "python",
   "nbconvert_exporter": "python",
   "pygments_lexer": "ipython3",
   "version": "3.12.7"
  }
 },
 "nbformat": 4,
 "nbformat_minor": 5
}
