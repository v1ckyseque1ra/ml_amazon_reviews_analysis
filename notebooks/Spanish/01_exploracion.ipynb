{
 "cells": [
  {
   "cell_type": "code",
   "execution_count": 113,
   "id": "92cf7b2d-bd2d-4f1d-8f8d-791f4c691430",
   "metadata": {},
   "outputs": [],
   "source": [
    "import os\n",
    "import re\n",
    "import warnings\n",
    "import zipfile\n",
    "import matplotlib.pyplot as plt\n",
    "import numpy as np\n",
    "import pandas as pd\n",
    "import seaborn as sns\n",
    "from bootcampviztools import pinta_distribucion_categoricas\n",
    "from nltk.corpus import stopwords\n",
    "import nltk\n",
    "\n",
    "# Configuracion\n",
    "warnings.filterwarnings('ignore')\n",
    "\n",
    "plt.rc('font', size=14)\n",
    "plt.rc('axes', labelsize=14, titlesize=14)\n",
    "plt.rc('legend', fontsize=14)\n",
    "plt.rc('xtick', labelsize=10)\n",
    "plt.rc('ytick', labelsize=10)"
   ]
  },
  {
   "cell_type": "code",
   "execution_count": 114,
   "id": "7e6a1148-db87-46e1-9568-0abc116d6fcd",
   "metadata": {},
   "outputs": [],
   "source": [
    "df_sample = pd.read_json(\n",
    "    r\"C:\\Users\\Vicky\\Documents\\ML_Amazon_Reviews_Analysis\\data_sample\\raw\\cropped.jsonl\",\n",
    "    lines=True  \n",
    ")\n"
   ]
  },
  {
   "cell_type": "code",
   "execution_count": 115,
   "id": "fdf6c3ac-2f46-4173-a1b3-e0c566b381b6",
   "metadata": {},
   "outputs": [
    {
     "data": {
      "text/html": [
       "<div>\n",
       "<style scoped>\n",
       "    .dataframe tbody tr th:only-of-type {\n",
       "        vertical-align: middle;\n",
       "    }\n",
       "\n",
       "    .dataframe tbody tr th {\n",
       "        vertical-align: top;\n",
       "    }\n",
       "\n",
       "    .dataframe thead th {\n",
       "        text-align: right;\n",
       "    }\n",
       "</style>\n",
       "<table border=\"1\" class=\"dataframe\">\n",
       "  <thead>\n",
       "    <tr style=\"text-align: right;\">\n",
       "      <th></th>\n",
       "      <th>rating</th>\n",
       "      <th>title</th>\n",
       "      <th>text</th>\n",
       "      <th>images</th>\n",
       "      <th>asin</th>\n",
       "      <th>parent_asin</th>\n",
       "      <th>user_id</th>\n",
       "      <th>timestamp</th>\n",
       "      <th>helpful_vote</th>\n",
       "      <th>verified_purchase</th>\n",
       "    </tr>\n",
       "  </thead>\n",
       "  <tbody>\n",
       "    <tr>\n",
       "      <th>0</th>\n",
       "      <td>5</td>\n",
       "      <td>Such a lovely scent but not overpowering.</td>\n",
       "      <td>This spray is really nice. It smells really go...</td>\n",
       "      <td>[]</td>\n",
       "      <td>B00YQ6X8EO</td>\n",
       "      <td>B00YQ6X8EO</td>\n",
       "      <td>AGKHLEW2SOWHNMFQIJGBECAF7INQ</td>\n",
       "      <td>2020-05-05 14:08:48.923</td>\n",
       "      <td>0</td>\n",
       "      <td>True</td>\n",
       "    </tr>\n",
       "    <tr>\n",
       "      <th>1</th>\n",
       "      <td>4</td>\n",
       "      <td>Works great but smells a little weird.</td>\n",
       "      <td>This product does what I need it to do, I just...</td>\n",
       "      <td>[]</td>\n",
       "      <td>B081TJ8YS3</td>\n",
       "      <td>B081TJ8YS3</td>\n",
       "      <td>AGKHLEW2SOWHNMFQIJGBECAF7INQ</td>\n",
       "      <td>2020-05-04 18:10:55.070</td>\n",
       "      <td>1</td>\n",
       "      <td>True</td>\n",
       "    </tr>\n",
       "    <tr>\n",
       "      <th>2</th>\n",
       "      <td>5</td>\n",
       "      <td>Yes!</td>\n",
       "      <td>Smells good, feels great!</td>\n",
       "      <td>[]</td>\n",
       "      <td>B07PNNCSP9</td>\n",
       "      <td>B097R46CSY</td>\n",
       "      <td>AE74DYR3QUGVPZJ3P7RFWBGIX7XQ</td>\n",
       "      <td>2020-05-16 21:41:06.052</td>\n",
       "      <td>2</td>\n",
       "      <td>True</td>\n",
       "    </tr>\n",
       "    <tr>\n",
       "      <th>3</th>\n",
       "      <td>1</td>\n",
       "      <td>Synthetic feeling</td>\n",
       "      <td>Felt synthetic</td>\n",
       "      <td>[]</td>\n",
       "      <td>B09JS339BZ</td>\n",
       "      <td>B09JS339BZ</td>\n",
       "      <td>AFQLNQNQYFWQZPJQZS6V3NZU4QBQ</td>\n",
       "      <td>2022-01-28 18:13:50.220</td>\n",
       "      <td>0</td>\n",
       "      <td>True</td>\n",
       "    </tr>\n",
       "    <tr>\n",
       "      <th>4</th>\n",
       "      <td>5</td>\n",
       "      <td>A+</td>\n",
       "      <td>Love it</td>\n",
       "      <td>[]</td>\n",
       "      <td>B08BZ63GMJ</td>\n",
       "      <td>B08BZ63GMJ</td>\n",
       "      <td>AFQLNQNQYFWQZPJQZS6V3NZU4QBQ</td>\n",
       "      <td>2020-12-30 10:02:43.534</td>\n",
       "      <td>0</td>\n",
       "      <td>True</td>\n",
       "    </tr>\n",
       "  </tbody>\n",
       "</table>\n",
       "</div>"
      ],
      "text/plain": [
       "   rating                                      title  \\\n",
       "0       5  Such a lovely scent but not overpowering.   \n",
       "1       4     Works great but smells a little weird.   \n",
       "2       5                                       Yes!   \n",
       "3       1                          Synthetic feeling   \n",
       "4       5                                         A+   \n",
       "\n",
       "                                                text images        asin  \\\n",
       "0  This spray is really nice. It smells really go...     []  B00YQ6X8EO   \n",
       "1  This product does what I need it to do, I just...     []  B081TJ8YS3   \n",
       "2                          Smells good, feels great!     []  B07PNNCSP9   \n",
       "3                                     Felt synthetic     []  B09JS339BZ   \n",
       "4                                            Love it     []  B08BZ63GMJ   \n",
       "\n",
       "  parent_asin                       user_id               timestamp  \\\n",
       "0  B00YQ6X8EO  AGKHLEW2SOWHNMFQIJGBECAF7INQ 2020-05-05 14:08:48.923   \n",
       "1  B081TJ8YS3  AGKHLEW2SOWHNMFQIJGBECAF7INQ 2020-05-04 18:10:55.070   \n",
       "2  B097R46CSY  AE74DYR3QUGVPZJ3P7RFWBGIX7XQ 2020-05-16 21:41:06.052   \n",
       "3  B09JS339BZ  AFQLNQNQYFWQZPJQZS6V3NZU4QBQ 2022-01-28 18:13:50.220   \n",
       "4  B08BZ63GMJ  AFQLNQNQYFWQZPJQZS6V3NZU4QBQ 2020-12-30 10:02:43.534   \n",
       "\n",
       "   helpful_vote  verified_purchase  \n",
       "0             0               True  \n",
       "1             1               True  \n",
       "2             2               True  \n",
       "3             0               True  \n",
       "4             0               True  "
      ]
     },
     "execution_count": 115,
     "metadata": {},
     "output_type": "execute_result"
    }
   ],
   "source": [
    "df_sample.head()"
   ]
  },
  {
   "cell_type": "markdown",
   "id": "2f75a90d-bcf8-454d-91bb-da026094f36d",
   "metadata": {},
   "source": [
    "### Exploracion inicial\n",
    "\n",
    "Echamos un vistazo"
   ]
  },
  {
   "cell_type": "code",
   "execution_count": 117,
   "id": "59acb794-e6d5-4be0-ab01-7d125da6eaab",
   "metadata": {},
   "outputs": [
    {
     "name": "stdout",
     "output_type": "stream",
     "text": [
      "\n",
      "Dimensiones del DataFrame:\n",
      "- Número de filas (reseñas): 8313\n",
      "- Número de columnas (variables): 10\n",
      "\n",
      "Nombres de columnas:\n",
      "1. rating\n",
      "2. title\n",
      "3. text\n",
      "4. images\n",
      "5. asin\n",
      "6. parent_asin\n",
      "7. user_id\n",
      "8. timestamp\n",
      "9. helpful_vote\n",
      "10. verified_purchase\n"
     ]
    }
   ],
   "source": [
    "# Obtener número de filas y columnas\n",
    "num_filas, num_columnas = df_sample.shape\n",
    "\n",
    "# Mostrar la información de dimensiones\n",
    "print(f\"\\nDimensiones del DataFrame:\")\n",
    "print(f\"- Número de filas (reseñas): {num_filas}\")\n",
    "print(f\"- Número de columnas (variables): {num_columnas}\")\n",
    "\n",
    "# Mostrar los nombres de las columnas si es necesario\n",
    "print(\"\\nNombres de columnas:\")\n",
    "for i, columna in enumerate(df_sample.columns, 1):\n",
    "    print(f\"{i}. {columna}\")"
   ]
  },
  {
   "cell_type": "code",
   "execution_count": 118,
   "id": "5c3e1321-c9f1-4694-9d7f-386fb46f2b1d",
   "metadata": {},
   "outputs": [
    {
     "name": "stdout",
     "output_type": "stream",
     "text": [
      "<class 'pandas.core.frame.DataFrame'>\n",
      "RangeIndex: 8313 entries, 0 to 8312\n",
      "Data columns (total 10 columns):\n",
      " #   Column             Non-Null Count  Dtype         \n",
      "---  ------             --------------  -----         \n",
      " 0   rating             8313 non-null   int64         \n",
      " 1   title              8313 non-null   object        \n",
      " 2   text               8313 non-null   object        \n",
      " 3   images             8313 non-null   object        \n",
      " 4   asin               8313 non-null   object        \n",
      " 5   parent_asin        8313 non-null   object        \n",
      " 6   user_id            8313 non-null   object        \n",
      " 7   timestamp          8313 non-null   datetime64[ns]\n",
      " 8   helpful_vote       8313 non-null   int64         \n",
      " 9   verified_purchase  8313 non-null   bool          \n",
      "dtypes: bool(1), datetime64[ns](1), int64(2), object(6)\n",
      "memory usage: 592.8+ KB\n"
     ]
    }
   ],
   "source": [
    "df_sample.info()"
   ]
  },
  {
   "cell_type": "markdown",
   "id": "1a9dc28d-2cad-468e-b2f9-5db80214b1c1",
   "metadata": {},
   "source": [
    "#### Descripcion de las columnas\n",
    "| **Columna**          | **Tipo de Dato** | **Relevancia para Análisis**                     | **Tratamiento Posible**                                                                 |\n",
    "|----------------------|------------------|------------------------------------------------|-------------------------------------------------------------------------------------------|\n",
    "| `rating`             | `float64`        | **Alta** (variable objetivo)                   | Convertir a escala discreta (1-2 = negativo, 3 = neutral, 4-5 = positivo).             |\n",
    "| `title`              | `object`         | **Media** (contexto adicional)                 | Concatenar con `text` para análisis NLP.                          |\n",
    "| `text`               | `object`         | **Crítica** (fuente primaria)                  | Limpieza de texto (stopwords, emojis, URLs), tokenización, y vectorización (TF-IDF/BOW).  |\n",
    "| `images`             | `object`         | **Baja**                                       | **Eliminar**                                   |\n",
    "| `asin`               | `object`         | **Nula**                                       | **Eliminar**                               |\n",
    "| `parent_asin`        | `object`         | **Nula**                                       | **Eliminar**                                                         |\n",
    "| `user_id`            | `object`         | **Nula**                                       | **Eliminar**                                   |\n",
    "| `timestamp`          | `int64`          | **Baja**                                       | Lo convierto a fecha solo por si surge posibilidad de analisis temporal                     |\n",
    "| `helpful_vote`       | `int64`          | **Media** (peso de confianza)                 | Normalizar o crear flag (ej: `helpful_vote > 5` = reseña destacada).                      |\n",
    "| `verified_purchase`  | `bool`           | **Alta** (confiabilidad)                      | Convertir a binario (1/0) y usarlo como feature en el modelo.                             |"
   ]
  },
  {
   "cell_type": "markdown",
   "id": "55c41d07-f34b-40d7-912d-64b3ecad526f",
   "metadata": {},
   "source": [
    "## Limpieza de Datos"
   ]
  },
  {
   "cell_type": "markdown",
   "id": "db22403c-c4fe-42cd-b0b0-fa94fa108cac",
   "metadata": {},
   "source": [
    "Elimino nulos, duplicados y verifico tipos de datos"
   ]
  },
  {
   "cell_type": "code",
   "execution_count": 122,
   "id": "2afe77f9-91cd-4317-973d-1605af1a0829",
   "metadata": {},
   "outputs": [
    {
     "name": "stdout",
     "output_type": "stream",
     "text": [
      "DataFrame original - Dimensiones: (8313, 10)\n",
      "DataFrame limpio - Dimensiones: (8306, 5)\n",
      "\n",
      "Primeras filas del DataFrame limpio:\n"
     ]
    },
    {
     "data": {
      "text/html": [
       "<div>\n",
       "<style scoped>\n",
       "    .dataframe tbody tr th:only-of-type {\n",
       "        vertical-align: middle;\n",
       "    }\n",
       "\n",
       "    .dataframe tbody tr th {\n",
       "        vertical-align: top;\n",
       "    }\n",
       "\n",
       "    .dataframe thead th {\n",
       "        text-align: right;\n",
       "    }\n",
       "</style>\n",
       "<table border=\"1\" class=\"dataframe\">\n",
       "  <thead>\n",
       "    <tr style=\"text-align: right;\">\n",
       "      <th></th>\n",
       "      <th>rating</th>\n",
       "      <th>title</th>\n",
       "      <th>text</th>\n",
       "      <th>helpful_vote</th>\n",
       "      <th>verified_purchase</th>\n",
       "    </tr>\n",
       "  </thead>\n",
       "  <tbody>\n",
       "    <tr>\n",
       "      <th>0</th>\n",
       "      <td>5</td>\n",
       "      <td>Such a lovely scent but not overpowering.</td>\n",
       "      <td>This spray is really nice. It smells really go...</td>\n",
       "      <td>0</td>\n",
       "      <td>True</td>\n",
       "    </tr>\n",
       "    <tr>\n",
       "      <th>1</th>\n",
       "      <td>4</td>\n",
       "      <td>Works great but smells a little weird.</td>\n",
       "      <td>This product does what I need it to do, I just...</td>\n",
       "      <td>1</td>\n",
       "      <td>True</td>\n",
       "    </tr>\n",
       "    <tr>\n",
       "      <th>2</th>\n",
       "      <td>5</td>\n",
       "      <td>Yes!</td>\n",
       "      <td>Smells good, feels great!</td>\n",
       "      <td>2</td>\n",
       "      <td>True</td>\n",
       "    </tr>\n",
       "    <tr>\n",
       "      <th>3</th>\n",
       "      <td>1</td>\n",
       "      <td>Synthetic feeling</td>\n",
       "      <td>Felt synthetic</td>\n",
       "      <td>0</td>\n",
       "      <td>True</td>\n",
       "    </tr>\n",
       "    <tr>\n",
       "      <th>4</th>\n",
       "      <td>5</td>\n",
       "      <td>A+</td>\n",
       "      <td>Love it</td>\n",
       "      <td>0</td>\n",
       "      <td>True</td>\n",
       "    </tr>\n",
       "  </tbody>\n",
       "</table>\n",
       "</div>"
      ],
      "text/plain": [
       "   rating                                      title  \\\n",
       "0       5  Such a lovely scent but not overpowering.   \n",
       "1       4     Works great but smells a little weird.   \n",
       "2       5                                       Yes!   \n",
       "3       1                          Synthetic feeling   \n",
       "4       5                                         A+   \n",
       "\n",
       "                                                text  helpful_vote  \\\n",
       "0  This spray is really nice. It smells really go...             0   \n",
       "1  This product does what I need it to do, I just...             1   \n",
       "2                          Smells good, feels great!             2   \n",
       "3                                     Felt synthetic             0   \n",
       "4                                            Love it             0   \n",
       "\n",
       "   verified_purchase  \n",
       "0               True  \n",
       "1               True  \n",
       "2               True  \n",
       "3               True  \n",
       "4               True  "
      ]
     },
     "execution_count": 122,
     "metadata": {},
     "output_type": "execute_result"
    }
   ],
   "source": [
    "# Crear una copia del DataFrame original\n",
    "df_reviews_clean = df_sample.copy()\n",
    "\n",
    "# Eliminar nulos en la copia\n",
    "df_reviews_clean = df_reviews_clean.dropna()\n",
    "\n",
    "# Eliminar columnas no hashables en la copia\n",
    "df_reviews_clean = df_reviews_clean.drop(columns=['images'])\n",
    "\n",
    "# Eliminar duplicados en la copia\n",
    "df_reviews_clean = df_reviews_clean.drop_duplicates()\n",
    "\n",
    "# Eliminar otras columnas innecesarias en la copia\n",
    "columnas_a_eliminar = ['asin', 'parent_asin', 'user_id','timestamp']\n",
    "df_reviews_clean = df_reviews_clean.drop(columns=columnas_a_eliminar)\n",
    "\n",
    "# Mostrar resultados\n",
    "print(\"DataFrame original - Dimensiones:\", df_sample.shape)\n",
    "print(\"DataFrame limpio - Dimensiones:\", df_reviews_clean.shape)\n",
    "print(\"\\nPrimeras filas del DataFrame limpio:\")\n",
    "df_reviews_clean.head()"
   ]
  },
  {
   "cell_type": "code",
   "execution_count": 123,
   "id": "d2c30cb3-541a-4f7b-ba84-874507588d42",
   "metadata": {},
   "outputs": [],
   "source": [
    "#Longitud promedio de las resenias: creo una nueva columna lenght con la longitud del texto de las mismas.\n",
    "\n",
    "df_reviews_clean['length'] = df_reviews_clean['text'].apply(len)\n"
   ]
  },
  {
   "cell_type": "code",
   "execution_count": 124,
   "id": "76052237-4293-4cc2-8d00-d6d0966fca04",
   "metadata": {},
   "outputs": [
    {
     "name": "stdout",
     "output_type": "stream",
     "text": [
      "Longitud promedio de las reseñas: 316.36 caracteres.\n"
     ]
    }
   ],
   "source": [
    "#calculo la longitud promedio \n",
    "average_length = df_reviews_clean['length'].mean()\n",
    "print(f\"Longitud promedio de las reseñas: {average_length:.2f} caracteres.\")"
   ]
  },
  {
   "cell_type": "markdown",
   "id": "e50c05a1-1f02-425b-8a1a-6004bfc97c16",
   "metadata": {},
   "source": [
    "### Visualizaciones\n",
    "#### Distribución de Ratings\n",
    "\n",
    "Se analiza la frecuencia de cada calificación con gráficos de barras y verificamos si hay desbalance en las categorías"
   ]
  },
  {
   "cell_type": "code",
   "execution_count": 126,
   "id": "3a3705c7-5fd8-4361-8c30-c7b8c6664e23",
   "metadata": {},
   "outputs": [
    {
     "data": {
      "image/png": "[encoded data removed]",
      "text/plain": [
       "<Figure size 1500x500 with 2 Axes>"
      ]
     },
     "metadata": {},
     "output_type": "display_data"
    }
   ],
   "source": [
    "#Distribucion de las calificaciones (columna 'rating')\n",
    "pinta_distribucion_categoricas(df_reviews_clean, columnas_categoricas=['rating'], mostrar_valores=True)"
   ]
  },
  {
   "cell_type": "markdown",
   "id": "8065a3c6-3901-4f76-b1d3-b5b777726026",
   "metadata": {},
   "source": [
    "#### Frecuencia de compras verificadas"
   ]
  },
  {
   "cell_type": "code",
   "execution_count": 128,
   "id": "181026a5-09ff-4d0f-81b3-b633595499e5",
   "metadata": {
    "scrolled": true
   },
   "outputs": [
    {
     "data": {
      "image/png": "[encoded data removed]",
      "text/plain": [
       "<Figure size 1500x500 with 2 Axes>"
      ]
     },
     "metadata": {},
     "output_type": "display_data"
    }
   ],
   "source": [
    "#Frecuencia de reseñas verificadas ('verified pur chase')\n",
    "pinta_distribucion_categoricas(df_reviews_clean, columnas_categoricas=['verified_purchase'], relativa=True, mostrar_valores=True)\n"
   ]
  },
  {
   "cell_type": "markdown",
   "id": "a075a9bf-f3c9-4040-bcfe-c6c769bec01c",
   "metadata": {},
   "source": [
    "#### World Cloud \n",
    "\n",
    "Muestro las palabras más frecuentes en text_limpio separadas por sentimiento (positivo,neutral, negativo)\n"
   ]
  },
  {
   "cell_type": "markdown",
   "id": "72eda6ef-2d16-46f5-865a-f791209e13cc",
   "metadata": {},
   "source": [
    "#### Boxplot o violinplot de longitud de texto\n",
    "\n",
    "Comparo la distribución de la longitud de las reseñas según el sentimiento, respondiendo por ejemplo a si las reseñas negativas son más largas que las positivas."
   ]
  },
  {
   "cell_type": "markdown",
   "id": "5406d7d1-9748-4926-9ba7-fc0bec0e6fac",
   "metadata": {},
   "source": [
    "#### Heatmap de correlaciones\n",
    "\n",
    "Analizo correlación entre helpful_votes con rating o sentimiento"
   ]
  },
  {
   "cell_type": "markdown",
   "id": "0a1ec26a-a74c-45c2-bc81-29afb9fc642d",
   "metadata": {},
   "source": [
    "### Análisis Estadístico \n",
    "\n",
    "#### Test de Hipótesis\n",
    "Aplico un test de chi-cuadrado para ver si ´verified_purchase´está asociado a ciertos ratings. Ej: Las compras verificadas tienden a tener ratings más altos? "
   ]
  },
  {
   "cell_type": "markdown",
   "id": "e185b8fd-cbdf-41c9-a4f0-f2a93e3f9267",
   "metadata": {},
   "source": [
    "#### Análisis de sentimiento por tiempo\n",
    "\n",
    "Con los datos temporales de 'timestamp' explorar tendencias, hay meses con mas reseñas negativas, cambia la distribuciòn de ratings con el tiempo? "
   ]
  },
  {
   "cell_type": "markdown",
   "id": "fa0aafe4-7728-4418-b76c-ae440cbaeea8",
   "metadata": {},
   "source": [
    "#### TF-IDF o N-gramas\n",
    "\n",
    "Identifico frases claves bigramas o trigramas tìpicas de reseñas positivas/negativas. Por ej, ´no recomiendo´ en reseñas negativas o ´excelente producto´en positivas."
   ]
  },
  {
   "cell_type": "markdown",
   "id": "3870a6b5-c1d1-4a5e-8543-591233be280f",
   "metadata": {},
   "source": [
    "***Preguntas clave para profundizar:***\n",
    "\n",
    "\n",
    "¿Existe diferencia en el vocabulario entre reseñas verificadas y no verificadas?\n",
    "\n",
    "¿Los productos con más reseñas negativas tienen algo en común (ej: categoría, precio)?\n",
    "\n",
    "¿Hay outliers en la longitud del texto que puedan indicar spam?"
   ]
  },
  {
   "cell_type": "code",
   "execution_count": 136,
   "id": "798ba728-c7b0-4ee3-83cc-6cfe127cec49",
   "metadata": {},
   "outputs": [
    {
     "name": "stdout",
     "output_type": "stream",
     "text": [
      "<class 'pandas.core.frame.DataFrame'>\n",
      "Index: 8306 entries, 0 to 8312\n",
      "Data columns (total 6 columns):\n",
      " #   Column             Non-Null Count  Dtype \n",
      "---  ------             --------------  ----- \n",
      " 0   rating             8306 non-null   int64 \n",
      " 1   title              8306 non-null   object\n",
      " 2   text               8306 non-null   object\n",
      " 3   helpful_vote       8306 non-null   int64 \n",
      " 4   verified_purchase  8306 non-null   bool  \n",
      " 5   length             8306 non-null   int64 \n",
      "dtypes: bool(1), int64(3), object(2)\n",
      "memory usage: 397.5+ KB\n"
     ]
    }
   ],
   "source": [
    "df_reviews_clean.info()"
   ]
  },
  {
   "cell_type": "code",
   "execution_count": null,
   "id": "6a2ae6f0-1cce-4f21-b538-869da27b3bd8",
   "metadata": {},
   "outputs": [],
   "source": []
  }
 ],
 "metadata": {
  "kernelspec": {
   "display_name": "Python 3 (ipykernel)",
   "language": "python",
   "name": "python3"
  },
  "language_info": {
   "codemirror_mode": {
    "name": "ipython",
    "version": 3
   },
   "file_extension": ".py",
   "mimetype": "text/x-python",
   "name": "python",
   "nbconvert_exporter": "python",
   "pygments_lexer": "ipython3",
   "version": "3.12.7"
  }
 },
 "nbformat": 4,
 "nbformat_minor": 5
}
