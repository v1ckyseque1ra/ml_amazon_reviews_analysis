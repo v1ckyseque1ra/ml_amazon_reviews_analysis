{
 "cells": [
  {
   "cell_type": "markdown",
   "id": "e5752cf0-14f1-4af5-a200-32c014fbdcee",
   "metadata": {},
   "source": [
    "### **Mejor Modelo: Regresión Logística Optimizada (Grid Search)**\n",
    "- **Accuracy**: **0.666** (el más alto entre todos los modelos).\n",
    "- **Precisión Macro Avg**: **0.53** (superior a Naïve Bayes y comparable a SVM).\n",
    "- **F1-Score Weighted Avg**: **0.62** (buen equilibrio entre precisión y recall).\n",
    "- **Rendimiento en Clase 5 (mayoría)**: \n",
    "  - **Precisión**: 0.71, **Recall**: 0.95, **F1**: 0.81 (excelente para la clase dominante).\n",
    "- **Optimización**: Usó parámetros `{'C': 1, 'penalty': 'l1', 'solver': 'saga'}` para mejorar generalización.\n",
    "\n",
    "### **Razones:**\n",
    "1. **Accuracy General**: Supera ligeramente a SVM (0.665 vs 0.652) y a Gradient Boosting (0.65).\n",
    "2. **Balance entre Clases**: Aunque SVM tiene mejor F1 en clase 1 (0.61 vs 0.59), la regresión logística mantiene un mejor equilibrio global (macro avg 0.53 vs 0.52 de SVM).\n",
    "3. **Clase 5 (Crítica)**: Tiene el mejor recall (0.95) sin sacrificar demasiado precisión (0.71), crucial si esta clase es la más importante.\n",
    "4. **Estabilidad**: Resultados consistentes entre Grid Search y Random Search (accuracy ~0.66), indicando robustez.\n",
    "\n",
    "### **Problemas en Otros Modelos:**\n",
    "- **Naïve Bayes**: Accuracy bajo (0.61) y pobre rendimiento en clases minoritarias (ej. clase 2 con F1 0.18).\n",
    "- **SVM**: Aunque cercano en accuracy (0.652), su F1 macro avg es peor (0.42 vs 0.44 de regresión logística).\n",
    "- **Gradient Boosting/XGBoost**: \n",
    "  - Gradient Boosting falla en clases 2 y 4 (F1 0.00 y 0.27).\n",
    "  - XGBoost tiene accuracy muy bajo (0.56) y pobre desempeño en clases no dominantes.\n",
    "\n",
    "### **Recomendación Final:**\n",
    "Usar **Regresión Logística Optimizada con Grid Search** por su equilibrio entre rendimiento general y capacidad para manejar la clase mayoritaria (5) sin ignorar completamente las minoritarias. Si se priorizan las clases minoritarias, podría explorarse oversampling o ajustes de pesos en el modelo."
   ]
  },
  {
   "cell_type": "code",
   "execution_count": null,
   "id": "294d684e-d71c-49ac-a95a-ff96365e30a5",
   "metadata": {},
   "outputs": [],
   "source": [
    "import pandas as pd\n",
    "import matplotlib.pyplot as plt\n",
    "import seaborn as sns\n",
    "\n",
    "# Datos de métricas (ajusta según tus resultados reales)\n",
    "data = {\n",
    "    \"Modelo\": [\"Naïve Bayes\", \"Naïve Bayes (Opt)\", \"Regresión Logística\", \"RL (Grid Search)\", \"RL (Random Search)\", \"SVM\", \"SVM (Opt)\", \"Gradient Boosting\", \"XGBoost\"],\n",
    "    \"Accuracy\": [0.57, 0.61, 0.66, 0.666, 0.659, 0.665, 0.653, 0.65, 0.56],\n",
    "    \"F1 Macro Avg\": [0.45, 0.43, 0.42, 0.44, 0.45, 0.44, 0.42, 0.37, 0.19],\n",
    "    \"F1 Weighted Avg\": [0.60, 0.61, 0.60, 0.62, 0.63, 0.61, 0.60, 0.58, 0.46],\n",
    "    \"Precision Clase 5\": [0.89, 0.79, 0.69, 0.71, 0.74, 0.71, 0.70, 0.66, 0.60],\n",
    "    \"Recall Clase 5\": [0.66, 0.80, 0.96, 0.95, 0.92, 0.95, 0.95, 0.98, 0.91]\n",
    "}\n",
    "\n",
    "df = pd.DataFrame(data)\n",
    "\n",
    "# Gráfico de barras comparativas\n",
    "plt.figure(figsize=(15, 8))\n",
    "sns.set_theme(style=\"whitegrid\")\n",
    "\n",
    "# Comparar Accuracy y F1 Macro\n",
    "plt.subplot(2, 2, 1)\n",
    "sns.barplot(x=\"Modelo\", y=\"Accuracy\", data=df, palette=\"viridis\")\n",
    "plt.xticks(rotation=45, ha='right')\n",
    "plt.title(\"Comparación de Accuracy\")\n",
    "\n",
    "plt.subplot(2, 2, 2)\n",
    "sns.barplot(x=\"Modelo\", y=\"F1 Macro Avg\", data=df_reviews_clean, palette=\"magma\")\n",
    "plt.xticks(rotation=45, ha='right')\n",
    "plt.title(\"F1 Macro Avg (Clases Minoritarias)\")\n",
    "\n",
    "plt.subplot(2, 2, 3)\n",
    "sns.barplot(x=\" Modelo\", y=\"F1 Weighted Avg\", data=df_reviews_clean, palette=\"plasma\")\n",
    "plt.xticks(rotation=45, ha='right')\n",
    "plt.title(\"F1 Weighted Avg (Clase Mayoritaria)\")\n",
    "\n",
    "plt.subplot(2, 2, 4)\n",
    "sns.barplot(x=\"Modelo\", y=\"Recall Clase 5\", data=df_reviews_clean, palette=\"coolwarm\")\n",
    "plt.xticks(rotation=45, ha='right')\n",
    "plt.title(\"Recall en Clase 5 (Positivas)\")\n",
    "\n",
    "plt.tight_layout()\n",
    "plt.show()"
   ]
  },
  {
   "cell_type": "code",
   "execution_count": null,
   "id": "e9c3948b-d17c-4b23-9fac-cc68e20acdb0",
   "metadata": {},
   "outputs": [],
   "source": [
    "from sklearn.metrics import confusion_matrix\n",
    "import numpy as np\n",
    "\n",
    "cm = confusion_matrix('rating', y_pred_lr_grid)\n",
    "\n",
    "\n",
    "plt.figure(figsize=(10, 7))\n",
    "sns.heatmap(cm, annot=True, fmt=\"d\", cmap=\"Blues\", xticklabels=[1, 2, 3, 4, 5], yticklabels=[1, 2, 3, 4, 5])\n",
    "plt.title(\"Matriz de Confusión - Regresión Logística\")\n",
    "plt.ylabel(\"Real\")\n",
    "plt.xlabel(\"Predicho\")\n",
    "plt.show()"
   ]
  },
  {
   "cell_type": "code",
   "execution_count": null,
   "id": "f8d8854a-5e91-4c12-9e4a-74acab73e4b3",
   "metadata": {},
   "outputs": [],
   "source": [
    "import numpy as np\n",
    "\n",
    "# Check unique values in y_true and y_pred\n",
    "print(\"Unique values in y_true:\", np.unique(y_true))\n",
    "print(\"Unique values in y_pred:\", np.unique(y_pred))"
   ]
  },
  {
   "cell_type": "code",
   "execution_count": null,
   "id": "f2666b46-2fc5-4249-a250-82160a90d758",
   "metadata": {},
   "outputs": [],
   "source": [
    "from sklearn.metrics import precision_recall_curve\n",
    "\n",
    "precision, recall, _ = precision_recall_curve(y_true, y_pred_proba[:, 4], pos_label=5)  # Clase 5\n",
    "plt.plot(recall, precision, marker='.')\n",
    "plt.title(\"Curva Precision-Recall - Clase 5\")\n",
    "plt.xlabel(\"Recall\")\n",
    "plt.ylabel(\"Precision\")"
   ]
  },
  {
   "cell_type": "code",
   "execution_count": null,
   "id": "602e2e7f-56a2-4e9d-9aa8-505e3444e4e7",
   "metadata": {},
   "outputs": [],
   "source": []
  }
 ],
 "metadata": {
  "kernelspec": {
   "display_name": "Python 3 (ipykernel)",
   "language": "python",
   "name": "python3"
  },
  "language_info": {
   "codemirror_mode": {
    "name": "ipython",
    "version": 3
   },
   "file_extension": ".py",
   "mimetype": "text/x-python",
   "name": "python",
   "nbconvert_exporter": "python",
   "pygments_lexer": "ipython3",
   "version": "3.12.7"
  }
 },
 "nbformat": 4,
 "nbformat_minor": 5
}
