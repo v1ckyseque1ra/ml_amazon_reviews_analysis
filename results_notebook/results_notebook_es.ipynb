{
 "cells": [
  {
   "cell_type": "markdown",
   "id": "44aad8e9-1792-4cc1-81b3-193f03dedc98",
   "metadata": {},
   "source": [
    "## **Paso 1: Entendiendo el Problema**\n",
    "En este notebook realizamos un **análisis de sentimiento** sobre reseñas de Amazon de la categoría `All_beauty`.\n",
    "El objetivo es entrenar un modelo de **Regresión Logística** para clasificar reseñas en **`negativo`, `neutral`** y **`positivo`**.\n",
    "\n",
    "## **Paso 2: Importar Librerías y Configuración**\n",
    "**Importamos** todas las librerías necesarias y configuramos los estilos de gráficos y warnings."
   ]
  },
  {
   "cell_type": "code",
   "execution_count": 4,
   "id": "e52024cb-9b2f-4b0c-bea9-63172846ac47",
   "metadata": {},
   "outputs": [],
   "source": [
    "import os\n",
    "import re\n",
    "import warnings\n",
    "import pandas as pd\n",
    "import numpy as np\n",
    "import matplotlib.pyplot as plt\n",
    "import nltk\n",
    "from nltk.corpus import stopwords\n",
    "from nltk.tokenize import word_tokenize\n",
    "from sklearn.model_selection import train_test_split, GridSearchCV\n",
    "from sklearn.feature_extraction.text import TfidfVectorizer\n",
    "from sklearn.preprocessing import LabelEncoder\n",
    "from sklearn.linear_model import LogisticRegression\n",
    "from sklearn.metrics import accuracy_score, classification_report, ConfusionMatrixDisplay\n",
    "import pickle\n",
    "\n",
    "# Configuración\n",
    "warnings.filterwarnings('ignore')\n",
    "plt.rc('font', size=12)\n",
    "plt.rc('axes', labelsize=12, titlesize=12)"
   ]
  },
  {
   "cell_type": "markdown",
   "id": "800d8572-72af-4cc4-83fa-1c2ff4dd992e",
   "metadata": {},
   "source": [
    "## **Paso 3: Carga de Datos**\n",
    "**Cargamos** el dataset en formato JSONL."
   ]
  },
  {
   "cell_type": "code",
   "execution_count": 20,
   "id": "2ac7a960-8606-47be-af6e-11e8868d90a4",
   "metadata": {},
   "outputs": [
    {
     "name": "stdout",
     "output_type": "stream",
     "text": [
      "Datos cargados: 8313 reseñas\n"
     ]
    }
   ],
   "source": [
    "data_path = r\"C:\\Users\\Vicky\\Documents\\ML_Amazon_Reviews\\data_sample\\raw\\cropped.jsonl\" #Path to datafile\n",
    "df = pd.read_json(data_path, lines=True)\n",
    "print(f\"Datos cargados: {len(df)} reseñas\")"
   ]
  },
  {
   "cell_type": "markdown",
   "id": "8b7c9508-eb14-4721-a8dc-6da8caa29eca",
   "metadata": {},
   "source": [
    "## **Paso 4: Preprocesamiento de Texto**\n",
    "1. **Eliminar** columnas irrelevantes.\n",
    "2. **Eliminar** valores nulos y duplicados.\n",
    "3. **Concatenar** título y cuerpo.\n",
    "4. **Normalizar** (minúsculas) y **limpiar** el texto."
   ]
  },
  {
   "cell_type": "code",
   "execution_count": 22,
   "id": "92d0cbf0-6b41-4295-8959-291a5accbb1a",
   "metadata": {},
   "outputs": [
    {
     "name": "stderr",
     "output_type": "stream",
     "text": [
      "[nltk_data] Downloading package stopwords to\n",
      "[nltk_data]     C:\\Users\\Vicky\\AppData\\Roaming\\nltk_data...\n",
      "[nltk_data]   Package stopwords is already up-to-date!\n"
     ]
    },
    {
     "name": "stdout",
     "output_type": "stream",
     "text": [
      "sentimiento\n",
      "positivo    6304\n",
      "negativo    1139\n",
      "neutral      823\n",
      "Name: count, dtype: int64\n"
     ]
    }
   ],
   "source": [
    "cols_drop = ['images', 'asin', 'parent_asin', 'user_id', 'timestamp']\n",
    "df_clean = df.dropna().drop(columns=[c for c in cols_drop if c in df.columns]).drop_duplicates()\n",
    "\n",
    "df_clean['text'] = (\n",
    "    df_clean['text'].fillna('') + ' ' + df_clean['title'].fillna('')\n",
    ").str.lower()\n",
    "\n",
    "nltk.download('stopwords')\n",
    "stop_words = set(stopwords.words('english'))\n",
    "\n",
    "def limpiar_texto(texto):\n",
    "    texto = re.sub(r'[^a-záéíóúüñ\\s]', ' ', texto)\n",
    "    tokens = texto.split()\n",
    "    return ' '.join([w for w in tokens if w not in stop_words])\n",
    "\n",
    "# Aplicar limpieza\n",
    "df_clean['text_clean'] = df_clean['text'].apply(limpiar_texto)\n",
    "\n",
    "# Definir etiquetas de sentimiento\n",
    "bins = [0, 2, 3, 5]\n",
    "labels = ['negativo', 'neutral', 'positivo']\n",
    "df_clean['sentimiento'] = pd.cut(\n",
    "    df_clean['rating'], bins=bins, labels=labels, right=True\n",
    ")\n",
    "\n",
    "print(df_clean['sentimiento'].value_counts())"
   ]
  },
  {
   "cell_type": "markdown",
   "id": "23efdb67-d414-46c8-82f3-3744d344ad95",
   "metadata": {},
   "source": [
    "## **Paso 5: Tokenización y Vectorización TF-IDF**\n",
    "1. **Tokenizar** texto limpio.\n",
    "2. **Vectorizar** con TF-IDF."
   ]
  },
  {
   "cell_type": "code",
   "execution_count": 24,
   "id": "40e885ff-4d07-4727-8c4f-011b167a4d44",
   "metadata": {},
   "outputs": [
    {
     "name": "stderr",
     "output_type": "stream",
     "text": [
      "[nltk_data] Downloading package punkt to\n",
      "[nltk_data]     C:\\Users\\Vicky\\AppData\\Roaming\\nltk_data...\n",
      "[nltk_data]   Package punkt is already up-to-date!\n"
     ]
    }
   ],
   "source": [
    "nltk.download('punkt')\n",
    "df_clean['tokens'] = df_clean['text_clean'].apply(lambda x: word_tokenize(x))\n",
    "\n",
    "vectorizer = TfidfVectorizer(max_features=10000)\n",
    "X_tfidf = vectorizer.fit_transform(df_clean['text_clean'])"
   ]
  },
  {
   "cell_type": "markdown",
   "id": "deade24d-833a-496f-a8dd-720b618b7de5",
   "metadata": {},
   "source": [
    "## **Paso 6: División en Train y Test**\n",
    "**Estratificamos** por sentimiento."
   ]
  },
  {
   "cell_type": "code",
   "execution_count": 25,
   "id": "58422499-8142-49ec-9e54-c870d41a6ca4",
   "metadata": {},
   "outputs": [],
   "source": [
    "y = df_clean['sentimiento']\n",
    "X_train, X_test, y_train, y_test = train_test_split(\n",
    "    X_tfidf, y, test_size=0.2, random_state=42, stratify=y\n",
    ")\n",
    "\n",
    "# Codificar etiquetas\n",
    "encoder = LabelEncoder()\n",
    "y_train_enc = encoder.fit_transform(y_train)\n",
    "y_test_enc = encoder.transform(y_test)"
   ]
  },
  {
   "cell_type": "markdown",
   "id": "3431eb2a-9520-4165-8d4b-d40dc5d518b0",
   "metadata": {},
   "source": [
    "## **Paso 7: Entrenamiento del Modelo**\n",
    "**Buscamos** mejores hiperparámetros con `GridSearchCV`."
   ]
  },
  {
   "cell_type": "code",
   "execution_count": 28,
   "id": "7c3aa3e9-c7d0-47c4-905d-bcdc0451b509",
   "metadata": {},
   "outputs": [
    {
     "name": "stdout",
     "output_type": "stream",
     "text": [
      "**Mejores parámetros:** {'C': 10, 'penalty': 'l2', 'solver': 'liblinear'}\n"
     ]
    }
   ],
   "source": [
    "param_grid = {\n",
    "    'C': [0.01, 0.1, 1, 10],\n",
    "    'penalty': ['l1', 'l2'],\n",
    "    'solver': ['liblinear']\n",
    "}\n",
    "\n",
    "lr = LogisticRegression(max_iter=500)\n",
    "grid = GridSearchCV(lr, param_grid, cv=5, scoring='accuracy', n_jobs=-1)\n",
    "grid.fit(X_train, y_train_enc)\n",
    "\n",
    "print(\"**Mejores parámetros:**\", grid.best_params_)"
   ]
  },
  {
   "cell_type": "markdown",
   "id": "b6f7b8ee-66fb-4722-956b-d0184386802d",
   "metadata": {},
   "source": [
    "## **Paso 8: Evaluación en Test**\n",
    "1. **Calcular** accuracy.\n",
    "2. **Reporte** de clasificación.\n",
    "3. **Matriz de Confusión**."
   ]
  },
  {
   "cell_type": "code",
   "execution_count": 30,
   "id": "21589c33-fc0f-4437-a57b-ede3b6772976",
   "metadata": {},
   "outputs": [
    {
     "name": "stdout",
     "output_type": "stream",
     "text": [
      "**Accuracy en test:** 0.8343\n",
      "**Classification Report:**\n",
      "              precision    recall  f1-score   support\n",
      "\n",
      "    negativo       0.71      0.54      0.62       228\n",
      "     neutral       0.45      0.24      0.32       165\n",
      "    positivo       0.87      0.96      0.92      1261\n",
      "\n",
      "    accuracy                           0.83      1654\n",
      "   macro avg       0.68      0.58      0.62      1654\n",
      "weighted avg       0.81      0.83      0.82      1654\n",
      "\n"
     ]
    },
    {
     "data": {
      "image/png": "[encoded data removed]",
      "text/plain": [
       "<Figure size 640x480 with 2 Axes>"
      ]
     },
     "metadata": {},
     "output_type": "display_data"
    }
   ],
   "source": [
    "best_model = grid.best_estimator_\n",
    "y_pred_enc = best_model.predict(X_test)\n",
    "y_pred = encoder.inverse_transform(y_pred_enc)\n",
    "\n",
    "print(f\"**Accuracy en test:** {accuracy_score(y_test_enc, y_pred_enc):.4f}\")\n",
    "print(\"**Classification Report:**\")\n",
    "print(classification_report(y_test, y_pred))\n",
    "\n",
    "# Mostrar matriz de confusión\n",
    "disp = ConfusionMatrixDisplay.from_predictions(\n",
    "    y_test_enc, y_pred_enc, display_labels=encoder.classes_\n",
    ")\n",
    "plt.title(\"**Matriz de Confusión**\")\n",
    "plt.show()"
   ]
  },
  {
   "cell_type": "markdown",
   "id": "791e655f-500b-41e0-bf34-f4df225a4aa8",
   "metadata": {},
   "source": [
    "## **Paso 9: Guardado del Modelo**\n",
    "**Guardamos** el modelo entrenado para uso futuro.\n"
   ]
  },
  {
   "cell_type": "code",
   "execution_count": 44,
   "id": "23be3b14-f528-4255-969f-8609456a04e0",
   "metadata": {},
   "outputs": [
    {
     "name": "stdout",
     "output_type": "stream",
     "text": [
      "**Modelo guardado en C:\\Users\\Vicky\\Documents\\ML_Amazon_Reviews\\models\\logreg_model.pkl**\n"
     ]
    }
   ],
   "source": [
    "# Directorio \n",
    "model_dir = r'C:\\Users\\Vicky\\Documents\\ML_Amazon_Reviews\\models'\n",
    "\n",
    "model_file = os.path.join(model_dir, 'logreg_model.pkl')\n",
    "\n",
    "with open(model_file, 'wb') as f:\n",
    "    pickle.dump(best_model, f)\n",
    "\n",
    "print(f\"**Modelo guardado en {model_file}**\")"
   ]
  },
  {
   "cell_type": "markdown",
   "id": "fac25013-8eaa-4ee0-9491-edd18aabd12b",
   "metadata": {},
   "source": [
    "## **Paso 10: Conclusiones Finales**\n",
    "- El modelo de **Regresión Logística** alcanzó una **accuracy** aceptable.  \n",
    "- Buen desempeño en clases **extremas** (negativo/positivo), menor en **neutrales**.  \n",
    "- **Futuras mejoras**: rebalanceo de clases y uso de embeddings más avanzados.  \n"
   ]
  }
 ],
 "metadata": {
  "kernelspec": {
   "display_name": "Python 3 (ipykernel)",
   "language": "python",
   "name": "python3"
  },
  "language_info": {
   "codemirror_mode": {
    "name": "ipython",
    "version": 3
   },
   "file_extension": ".py",
   "mimetype": "text/x-python",
   "name": "python",
   "nbconvert_exporter": "python",
   "pygments_lexer": "ipython3",
   "version": "3.12.7"
  }
 },
 "nbformat": 4,
 "nbformat_minor": 5
}
