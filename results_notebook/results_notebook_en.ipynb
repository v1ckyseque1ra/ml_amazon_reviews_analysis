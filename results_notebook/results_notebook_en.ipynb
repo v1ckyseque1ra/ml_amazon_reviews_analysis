{
 "cells": [
  {
   "cell_type": "markdown",
   "id": "bb73ef7c-4891-48d6-9b3a-ce9488de3c9c",
   "metadata": {},
   "source": [
    "## **Step 1: Understanding the Problem**\n",
    "In this notebook, we perform a **sentiment analysis** on Amazon reviews in the `All_beauty` category.\n",
    "The goal is to train a **Logistic Regression** model to classify reviews as **`negative`, `neutral`**, or **`positive`**.\n",
    "\n",
    "## **Step 2: Import Libraries and Configuration**\n",
    "**Import** all necessary libraries and set up plot styles and warnings."
   ]
  },
  {
   "cell_type": "code",
   "execution_count": 4,
   "id": "335e28be-497c-4808-b0df-d1871e15ff80",
   "metadata": {},
   "outputs": [],
   "source": [
    "import os\n",
    "import re\n",
    "import warnings\n",
    "import pandas as pd\n",
    "import numpy as np\n",
    "import matplotlib.pyplot as plt\n",
    "import nltk\n",
    "from nltk.corpus import stopwords\n",
    "from nltk.tokenize import word_tokenize\n",
    "from sklearn.model_selection import train_test_split, GridSearchCV\n",
    "from sklearn.feature_extraction.text import TfidfVectorizer\n",
    "from sklearn.preprocessing import LabelEncoder\n",
    "from sklearn.linear_model import LogisticRegression\n",
    "from sklearn.metrics import accuracy_score, classification_report, ConfusionMatrixDisplay\n",
    "import pickle\n",
    "\n",
    "# Settings\n",
    "warnings.filterwarnings('ignore')\n",
    "plt.rc('font', size=12)\n",
    "plt.rc('axes', labelsize=12, titlesize=12)"
   ]
  },
  {
   "cell_type": "markdown",
   "id": "f35bb6c7-6be0-4e18-ab5f-45486635d809",
   "metadata": {},
   "source": [
    "## **Step 3: Load Data**\n",
    "**Load** the dataset in JSONL format."
   ]
  },
  {
   "cell_type": "code",
   "execution_count": 15,
   "id": "108c7582-79b2-4654-9040-565c8036c106",
   "metadata": {},
   "outputs": [
    {
     "name": "stdout",
     "output_type": "stream",
     "text": [
      "Loaded data: 8313 reviews\n"
     ]
    }
   ],
   "source": [
    "data_path = r\"C:\\Users\\Vicky\\Documents\\ML_Amazon_Reviews\\data_sample\\raw\\cropped.jsonl\"  # Path to JSONL file\n",
    "df = pd.read_json(data_path, lines=True)\n",
    "print(f\"Loaded data: {len(df)} reviews\")"
   ]
  },
  {
   "cell_type": "markdown",
   "id": "b1d60e14-c4eb-4a68-9f1f-892b36b424ae",
   "metadata": {},
   "source": [
    "## **Step 4: Text Preprocessing**\n",
    "1. **Drop** irrelevant columns.\n",
    "2. **Remove** nulls and duplicates.\n",
    "3. **Concatenate** title and body.\n",
    "4. **Normalize** (lowercase) and **clean** text."
   ]
  },
  {
   "cell_type": "code",
   "execution_count": 19,
   "id": "45f8cdd7-ae09-4109-8fa0-e8475d318081",
   "metadata": {},
   "outputs": [
    {
     "name": "stderr",
     "output_type": "stream",
     "text": [
      "[nltk_data] Downloading package stopwords to\n",
      "[nltk_data]     C:\\Users\\Vicky\\AppData\\Roaming\\nltk_data...\n",
      "[nltk_data]   Package stopwords is already up-to-date!\n"
     ]
    },
    {
     "name": "stdout",
     "output_type": "stream",
     "text": [
      "sentiment\n",
      "positive    6304\n",
      "negative    1139\n",
      "neutral      823\n",
      "Name: count, dtype: int64\n"
     ]
    }
   ],
   "source": [
    "cols_to_drop = ['images', 'asin', 'parent_asin', 'user_id', 'timestamp']\n",
    "df_clean = df.dropna().drop(columns=[c for c in cols_to_drop if c in df.columns]).drop_duplicates()\n",
    "\n",
    "# Concatenate title and body, convert to lowercase\n",
    "df_clean['text'] = (\n",
    "    df_clean['text'].fillna('') + ' ' + df_clean['title'].fillna('')\n",
    ").str.lower()\n",
    "\n",
    "# Download stopwords and define cleaning function\n",
    "nltk.download('stopwords')\n",
    "stop_words = set(stopwords.words('english'))\n",
    "\n",
    "def clean_text(text):\n",
    "    text = re.sub(r'[^a-záéíóúüñ\\s]', ' ', text)\n",
    "    tokens = text.split()\n",
    "    return ' '.join([w for w in tokens if w not in stop_words])\n",
    "\n",
    "# Apply cleaning\n",
    "df_clean['text_clean'] = df_clean['text'].apply(clean_text)\n",
    "\n",
    "# Define sentiment labels based on rating\n",
    "bins = [0, 2, 3, 5]\n",
    "labels = ['negative', 'neutral', 'positive']\n",
    "df_clean['sentiment'] = pd.cut(\n",
    "    df_clean['rating'], bins=bins, labels=labels, right=True\n",
    ")\n",
    "\n",
    "print(df_clean['sentiment'].value_counts())"
   ]
  },
  {
   "cell_type": "markdown",
   "id": "eaaf8a9c-a607-4a48-ae87-3c73114554c9",
   "metadata": {},
   "source": [
    "## **Step 5: Tokenization and TF-IDF Vectorization**\n",
    "1. **Tokenize** cleaned text.\n",
    "2. **Vectorize** with TF-IDF.\n"
   ]
  },
  {
   "cell_type": "code",
   "execution_count": 21,
   "id": "a3558310-0a75-426b-87b4-0b28bcc8d814",
   "metadata": {},
   "outputs": [
    {
     "name": "stderr",
     "output_type": "stream",
     "text": [
      "[nltk_data] Downloading package punkt to\n",
      "[nltk_data]     C:\\Users\\Vicky\\AppData\\Roaming\\nltk_data...\n",
      "[nltk_data]   Package punkt is already up-to-date!\n"
     ]
    }
   ],
   "source": [
    "nltk.download('punkt')\n",
    "df_clean['tokens'] = df_clean['text_clean'].apply(lambda x: word_tokenize(x))\n",
    "\n",
    "vectorizer = TfidfVectorizer(max_features=10000)\n",
    "X_tfidf = vectorizer.fit_transform(df_clean['text_clean'])"
   ]
  },
  {
   "cell_type": "markdown",
   "id": "412d4405-907d-451e-80dd-a919f757d7fa",
   "metadata": {},
   "source": [
    "## **Step 6: Train-Test Split**\n",
    "**Stratify** by sentiment label."
   ]
  },
  {
   "cell_type": "code",
   "execution_count": 25,
   "id": "635559cf-ffef-4634-9c89-f5c5543a8b96",
   "metadata": {},
   "outputs": [],
   "source": [
    "y = df_clean['sentiment']\n",
    "X_train, X_test, y_train, y_test = train_test_split(\n",
    "    X_tfidf, y, test_size=0.2, random_state=42, stratify=y\n",
    ")\n",
    "\n",
    "# Encode labels\n",
    "encoder = LabelEncoder()\n",
    "y_train_enc = encoder.fit_transform(y_train)\n",
    "y_test_enc = encoder.transform(y_test)\n"
   ]
  },
  {
   "cell_type": "markdown",
   "id": "d4514390-7344-4e5a-9bc9-bb7e8bd93ef3",
   "metadata": {},
   "source": [
    "## **Step 7: Model Training**\n",
    "**Perform** hyperparameter search with `GridSearchCV` on Logistic Regression."
   ]
  },
  {
   "cell_type": "code",
   "execution_count": 27,
   "id": "8878ef0b-31d8-444b-8ea7-0a00f86c6a76",
   "metadata": {},
   "outputs": [
    {
     "name": "stdout",
     "output_type": "stream",
     "text": [
      "**Best parameters:** {'C': 10, 'penalty': 'l2', 'solver': 'liblinear'}\n"
     ]
    }
   ],
   "source": [
    "param_grid = {\n",
    "    'C': [0.01, 0.1, 1, 10],\n",
    "    'penalty': ['l1', 'l2'],\n",
    "    'solver': ['liblinear']\n",
    "}\n",
    "\n",
    "lr = LogisticRegression(max_iter=500)\n",
    "grid = GridSearchCV(lr, param_grid, cv=5, scoring='accuracy', n_jobs=-1)\n",
    "grid.fit(X_train, y_train_enc)\n",
    "\n",
    "print(\"**Best parameters:**\", grid.best_params_)"
   ]
  },
  {
   "cell_type": "markdown",
   "id": "790af3d8-6aa6-49a4-bf04-6995b3497160",
   "metadata": {},
   "source": [
    "## **Step 8: Test Evaluation**\n",
    "1. **Compute** accuracy.\n",
    "2. **Show** classification report.\n",
    "3. **Display** confusion matrix.\n"
   ]
  },
  {
   "cell_type": "code",
   "execution_count": 29,
   "id": "d310f1bb-ecf8-4719-b1a6-7fe423ad88c6",
   "metadata": {},
   "outputs": [
    {
     "name": "stdout",
     "output_type": "stream",
     "text": [
      "**Test accuracy:** 0.8343\n",
      "**Classification Report:**\n",
      "              precision    recall  f1-score   support\n",
      "\n",
      "    negative       0.71      0.54      0.62       228\n",
      "     neutral       0.45      0.24      0.32       165\n",
      "    positive       0.87      0.96      0.92      1261\n",
      "\n",
      "    accuracy                           0.83      1654\n",
      "   macro avg       0.68      0.58      0.62      1654\n",
      "weighted avg       0.81      0.83      0.82      1654\n",
      "\n"
     ]
    },
    {
     "data": {
      "image/png": "[encoded data removed]",
      "text/plain": [
       "<Figure size 640x480 with 2 Axes>"
      ]
     },
     "metadata": {},
     "output_type": "display_data"
    }
   ],
   "source": [
    "best_model = grid.best_estimator_\n",
    "y_pred_enc = best_model.predict(X_test)\n",
    "y_pred = encoder.inverse_transform(y_pred_enc)\n",
    "\n",
    "print(f\"**Test accuracy:** {accuracy_score(y_test_enc, y_pred_enc):.4f}\")\n",
    "print(\"**Classification Report:**\")\n",
    "print(classification_report(y_test, y_pred))\n",
    "\n",
    "# Confusion matrix\n",
    "disp = ConfusionMatrixDisplay.from_predictions(\n",
    "    y_test_enc, y_pred_enc, display_labels=encoder.classes_\n",
    ")\n",
    "plt.title(\"**Confusion Matrix**\")\n",
    "plt.show()"
   ]
  },
  {
   "cell_type": "markdown",
   "id": "df93b67e-244d-47a3-ab7c-3b8551c05495",
   "metadata": {},
   "source": [
    "## **Step 9: Save Model**\n",
    "**Save** trained model for future use.\n"
   ]
  },
  {
   "cell_type": "code",
   "execution_count": 34,
   "id": "a6b8a2f4-d6f3-4ca5-8201-8b5c73027492",
   "metadata": {},
   "outputs": [
    {
     "name": "stdout",
     "output_type": "stream",
     "text": [
      "**Model saved in C:\\Users\\Vicky\\Documents\\ML_Amazon_Reviews\\models\\logreg_model.pkl**\n"
     ]
    }
   ],
   "source": [
    "# Directory\n",
    "model_dir = r'C:\\Users\\Vicky\\Documents\\ML_Amazon_Reviews\\models'\n",
    "\n",
    "model_file = os.path.join(model_dir, 'logreg_model.pkl')\n",
    "\n",
    "with open(model_file, 'wb') as f:\n",
    "    pickle.dump(best_model, f)\n",
    "\n",
    "print(f\"**Model saved in {model_file}**\")"
   ]
  },
  {
   "cell_type": "markdown",
   "id": "a60381c5-48ee-4674-9970-c0134da34c8c",
   "metadata": {},
   "source": [
    "## **Step 10: Final Conclusions**\n",
    "- The **Logistic Regression** model achieved acceptable **accuracy**.  \n",
    "- Strong performance on **extreme classes** (negative/positive), lower on **neutral**.  \n",
    "- **Future improvements**: class rebalancing and advanced embeddings.  \n"
   ]
  },
  {
   "cell_type": "code",
   "execution_count": null,
   "id": "9d7d9a34-296a-4898-b971-cf901eab1678",
   "metadata": {},
   "outputs": [],
   "source": []
  }
 ],
 "metadata": {
  "kernelspec": {
   "display_name": "Python 3 (ipykernel)",
   "language": "python",
   "name": "python3"
  },
  "language_info": {
   "codemirror_mode": {
    "name": "ipython",
    "version": 3
   },
   "file_extension": ".py",
   "mimetype": "text/x-python",
   "name": "python",
   "nbconvert_exporter": "python",
   "pygments_lexer": "ipython3",
   "version": "3.12.7"
  }
 },
 "nbformat": 4,
 "nbformat_minor": 5
}
